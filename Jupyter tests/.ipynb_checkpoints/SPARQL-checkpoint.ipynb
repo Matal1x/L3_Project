{
 "cells": [
  {
   "cell_type": "code",
   "execution_count": 5,
   "id": "c0b776dc",
   "metadata": {},
   "outputs": [
    {
     "name": "stderr",
     "output_type": "stream",
     "text": [
      "file:///C:/L3_Project/L3_Project/@prefix ex: <http:/example.org/> .ex:0 ex:DestinationIP \"192.168.20.191\" ;    ex:DestinationPort \"51041\" ;    ex:DoH \"False\" ;    ex:Duration \"4.54404\" ;    ex:FlowBytesReceived \"159324\" ;    ex:FlowBytesSent \"11256331\" ;    ex:FlowReceivedRate \"35062.19135\" ;    ex:FlowSentRate \"2477163.713\" ;    ex:PacketLengthCoefficientofVariation \"0.590734751\" ;    ex:PacketLengthMean \"1106.811615\" ;    ex:PacketLengthMedian \"1514.0\" ;    ex:PacketLengthMode \"1514\" ;    ex:PacketLengthSkewFromMedian \"-1.86831632\" ;    ex:PacketLengthSkewFromMode \"-0.622772107\" ;    ex:PacketLengthStandardDeviation \"653.8320845\" ;    ex:PacketLengthVariance \"427496.3947\" ;    ex:PacketTimeCoefficientofVariation \"0.58094867\" ;    ex:PacketTimeMean \"2.257565677\" ;    ex:PacketTimeMedian \"2.2460455\" ;    ex:PacketTimeMode \"0.136072\" ;    ex:PacketTimeSkewFromMedian \"0.026351312\" ;    ex:PacketTimeSkewFromMode \"1.617571871\" ;    ex:PacketTimeStandardDeviation \"1.311529778\" ;    ex:PacketTimeVariance \"1.720110358\" ;    ex:ResponseTimeTimeCoefficientofVariation \"12.45482315\" ;    ex:ResponseTimeTimeMean \"2.67e-05\" ;    ex:ResponseTimeTimeMedian \"1.6e-05\" ;    ex:ResponseTimeTimeMode \"1.4e-05\" ;    ex:ResponseTimeTimeSkewFromMedian \"0.096658872\" ;    ex:ResponseTimeTimeSkewFromMode \"0.038228444\" ;    ex:ResponseTimeTimeStandardDeviation \"0.000332844\" ;    ex:ResponseTimeTimeVariance \"1.11e-07\" ;    ex:SourceIP \"72.21.91.42\" ;    ex:SourcePort \"443\" ;    ex:TimeStamp \"14/01/2020_15:49\" . does not look like a valid URI, trying to serialize this will break.\n"
     ]
    },
    {
     "ename": "OSError",
     "evalue": "Bad URL: /C|/L3_Project/L3_Project/@prefix ex| <http|/example.org/> .ex|0 ex|DestinationIP \"192.168.20.191\" ;    ex|DestinationPort \"51041\" ;    ex|DoH \"False\" ;    ex|Duration \"4.54404\" ;    ex|FlowBytesReceived \"159324\" ;    ex|FlowBytesSent \"11256331\" ;    ex|FlowReceivedRate \"35062.19135\" ;    ex|FlowSentRate \"2477163.713\" ;    ex|PacketLengthCoefficientofVariation \"0.590734751\" ;    ex|PacketLengthMean \"1106.811615\" ;    ex|PacketLengthMedian \"1514.0\" ;    ex|PacketLengthMode \"1514\" ;    ex|PacketLengthSkewFromMedian \"-1.86831632\" ;    ex|PacketLengthSkewFromMode \"-0.622772107\" ;    ex|PacketLengthStandardDeviation \"653.8320845\" ;    ex|PacketLengthVariance \"427496.3947\" ;    ex|PacketTimeCoefficientofVariation \"0.58094867\" ;    ex|PacketTimeMean \"2.257565677\" ;    ex|PacketTimeMedian \"2.2460455\" ;    ex|PacketTimeMode \"0.136072\" ;    ex|PacketTimeSkewFromMedian \"0.026351312\" ;    ex|PacketTimeSkewFromMode \"1.617571871\" ;    ex|PacketTimeStandardDeviation \"1.311529778\" ;    ex|PacketTimeVariance \"1.720110358\" ;    ex|ResponseTimeTimeCoefficientofVariation \"12.45482315\" ;    ex|ResponseTimeTimeMean \"2.67e-05\" ;    ex|ResponseTimeTimeMedian \"1.6e-05\" ;    ex|ResponseTimeTimeMode \"1.4e-05\" ;    ex|ResponseTimeTimeSkewFromMedian \"0.096658872\" ;    ex|ResponseTimeTimeSkewFromMode \"0.038228444\" ;    ex|ResponseTimeTimeStandardDeviation \"0.000332844\" ;    ex|ResponseTimeTimeVariance \"1.11e-07\" ;    ex|SourceIP \"72.21.91.42\" ;    ex|SourcePort \"443\" ;    ex|TimeStamp \"14/01/2020_15|49\" .",
     "output_type": "error",
     "traceback": [
      "\u001b[1;31m---------------------------------------------------------------------------\u001b[0m",
      "\u001b[1;31mOSError\u001b[0m                                   Traceback (most recent call last)",
      "Cell \u001b[1;32mIn[5], line 43\u001b[0m\n\u001b[0;32m      2\u001b[0m g \u001b[38;5;241m=\u001b[39m rdflib\u001b[38;5;241m.\u001b[39mGraph()\n\u001b[0;32m      3\u001b[0m rdf\u001b[38;5;241m=\u001b[39m\u001b[38;5;124m\"\"\"\u001b[39m\n\u001b[0;32m      4\u001b[0m \u001b[38;5;124m@prefix ex: <http://example.org/> .\u001b[39m\n\u001b[0;32m      5\u001b[0m \n\u001b[1;32m   (...)\u001b[0m\n\u001b[0;32m     41\u001b[0m \n\u001b[0;32m     42\u001b[0m \u001b[38;5;124m\"\"\"\u001b[39m\n\u001b[1;32m---> 43\u001b[0m \u001b[43mg\u001b[49m\u001b[38;5;241;43m.\u001b[39;49m\u001b[43mparse\u001b[49m\u001b[43m(\u001b[49m\u001b[43mrdf\u001b[49m\u001b[43m)\u001b[49m\n\u001b[0;32m     45\u001b[0m knows_query \u001b[38;5;241m=\u001b[39m \u001b[38;5;124m\"\"\"\u001b[39m\n\u001b[0;32m     46\u001b[0m \u001b[38;5;124mSELECT DISTINCT ?attacker ?sourceport\u001b[39m\n\u001b[0;32m     47\u001b[0m \u001b[38;5;124mWHERE \u001b[39m\u001b[38;5;124m{\u001b[39m\n\u001b[0;32m     48\u001b[0m \u001b[38;5;124m    ?a ex:SourcePort ?b .\u001b[39m\n\u001b[0;32m     49\u001b[0m \u001b[38;5;124m}\u001b[39m\u001b[38;5;124m\"\"\"\u001b[39m\n\u001b[0;32m     51\u001b[0m qres \u001b[38;5;241m=\u001b[39m g\u001b[38;5;241m.\u001b[39mquery(knows_query)\n",
      "File \u001b[1;32mC:\\L3_Project\\L3_Project\\Venv\\Lib\\site-packages\\rdflib\\graph.py:1306\u001b[0m, in \u001b[0;36mGraph.parse\u001b[1;34m(self, source, publicID, format, location, file, data, **args)\u001b[0m\n\u001b[0;32m   1223\u001b[0m \u001b[38;5;28;01mdef\u001b[39;00m \u001b[38;5;21mparse\u001b[39m(\n\u001b[0;32m   1224\u001b[0m     \u001b[38;5;28mself\u001b[39m,\n\u001b[0;32m   1225\u001b[0m     source: Optional[\n\u001b[1;32m   (...)\u001b[0m\n\u001b[0;32m   1233\u001b[0m     \u001b[38;5;241m*\u001b[39m\u001b[38;5;241m*\u001b[39margs,\n\u001b[0;32m   1234\u001b[0m ):\n\u001b[0;32m   1235\u001b[0m \u001b[38;5;250m    \u001b[39m\u001b[38;5;124;03m\"\"\"\u001b[39;00m\n\u001b[0;32m   1236\u001b[0m \u001b[38;5;124;03m    Parse an RDF source adding the resulting triples to the Graph.\u001b[39;00m\n\u001b[0;32m   1237\u001b[0m \n\u001b[1;32m   (...)\u001b[0m\n\u001b[0;32m   1303\u001b[0m \n\u001b[0;32m   1304\u001b[0m \u001b[38;5;124;03m    \"\"\"\u001b[39;00m\n\u001b[1;32m-> 1306\u001b[0m     source \u001b[38;5;241m=\u001b[39m \u001b[43mcreate_input_source\u001b[49m\u001b[43m(\u001b[49m\n\u001b[0;32m   1307\u001b[0m \u001b[43m        \u001b[49m\u001b[43msource\u001b[49m\u001b[38;5;241;43m=\u001b[39;49m\u001b[43msource\u001b[49m\u001b[43m,\u001b[49m\n\u001b[0;32m   1308\u001b[0m \u001b[43m        \u001b[49m\u001b[43mpublicID\u001b[49m\u001b[38;5;241;43m=\u001b[39;49m\u001b[43mpublicID\u001b[49m\u001b[43m,\u001b[49m\n\u001b[0;32m   1309\u001b[0m \u001b[43m        \u001b[49m\u001b[43mlocation\u001b[49m\u001b[38;5;241;43m=\u001b[39;49m\u001b[43mlocation\u001b[49m\u001b[43m,\u001b[49m\n\u001b[0;32m   1310\u001b[0m \u001b[43m        \u001b[49m\u001b[43mfile\u001b[49m\u001b[38;5;241;43m=\u001b[39;49m\u001b[43mfile\u001b[49m\u001b[43m,\u001b[49m\n\u001b[0;32m   1311\u001b[0m \u001b[43m        \u001b[49m\u001b[43mdata\u001b[49m\u001b[38;5;241;43m=\u001b[39;49m\u001b[43mdata\u001b[49m\u001b[43m,\u001b[49m\n\u001b[0;32m   1312\u001b[0m \u001b[43m        \u001b[49m\u001b[38;5;28;43mformat\u001b[39;49m\u001b[38;5;241;43m=\u001b[39;49m\u001b[38;5;28;43mformat\u001b[39;49m\u001b[43m,\u001b[49m\n\u001b[0;32m   1313\u001b[0m \u001b[43m    \u001b[49m\u001b[43m)\u001b[49m\n\u001b[0;32m   1314\u001b[0m     \u001b[38;5;28;01mif\u001b[39;00m \u001b[38;5;28mformat\u001b[39m \u001b[38;5;129;01mis\u001b[39;00m \u001b[38;5;28;01mNone\u001b[39;00m:\n\u001b[0;32m   1315\u001b[0m         \u001b[38;5;28mformat\u001b[39m \u001b[38;5;241m=\u001b[39m source\u001b[38;5;241m.\u001b[39mcontent_type\n",
      "File \u001b[1;32mC:\\L3_Project\\L3_Project\\Venv\\Lib\\site-packages\\rdflib\\parser.py:404\u001b[0m, in \u001b[0;36mcreate_input_source\u001b[1;34m(source, publicID, location, file, data, format)\u001b[0m\n\u001b[0;32m    396\u001b[0m auto_close \u001b[38;5;241m=\u001b[39m \u001b[38;5;28;01mFalse\u001b[39;00m  \u001b[38;5;66;03m# make sure we close all file handles we open\u001b[39;00m\n\u001b[0;32m    398\u001b[0m \u001b[38;5;28;01mif\u001b[39;00m location \u001b[38;5;129;01mis\u001b[39;00m \u001b[38;5;129;01mnot\u001b[39;00m \u001b[38;5;28;01mNone\u001b[39;00m:\n\u001b[0;32m    399\u001b[0m     (\n\u001b[0;32m    400\u001b[0m         absolute_location,\n\u001b[0;32m    401\u001b[0m         auto_close,\n\u001b[0;32m    402\u001b[0m         file,\n\u001b[0;32m    403\u001b[0m         input_source,\n\u001b[1;32m--> 404\u001b[0m     ) \u001b[38;5;241m=\u001b[39m \u001b[43m_create_input_source_from_location\u001b[49m\u001b[43m(\u001b[49m\n\u001b[0;32m    405\u001b[0m \u001b[43m        \u001b[49m\u001b[43mfile\u001b[49m\u001b[38;5;241;43m=\u001b[39;49m\u001b[43mfile\u001b[49m\u001b[43m,\u001b[49m\n\u001b[0;32m    406\u001b[0m \u001b[43m        \u001b[49m\u001b[38;5;28;43mformat\u001b[39;49m\u001b[38;5;241;43m=\u001b[39;49m\u001b[38;5;28;43mformat\u001b[39;49m\u001b[43m,\u001b[49m\n\u001b[0;32m    407\u001b[0m \u001b[43m        \u001b[49m\u001b[43minput_source\u001b[49m\u001b[38;5;241;43m=\u001b[39;49m\u001b[43minput_source\u001b[49m\u001b[43m,\u001b[49m\n\u001b[0;32m    408\u001b[0m \u001b[43m        \u001b[49m\u001b[43mlocation\u001b[49m\u001b[38;5;241;43m=\u001b[39;49m\u001b[43mlocation\u001b[49m\u001b[43m,\u001b[49m\n\u001b[0;32m    409\u001b[0m \u001b[43m    \u001b[49m\u001b[43m)\u001b[49m\n\u001b[0;32m    411\u001b[0m \u001b[38;5;28;01mif\u001b[39;00m file \u001b[38;5;129;01mis\u001b[39;00m \u001b[38;5;129;01mnot\u001b[39;00m \u001b[38;5;28;01mNone\u001b[39;00m:\n\u001b[0;32m    412\u001b[0m     input_source \u001b[38;5;241m=\u001b[39m FileInputSource(file)\n",
      "File \u001b[1;32mC:\\L3_Project\\L3_Project\\Venv\\Lib\\site-packages\\rdflib\\parser.py:455\u001b[0m, in \u001b[0;36m_create_input_source_from_location\u001b[1;34m(file, format, input_source, location)\u001b[0m\n\u001b[0;32m    452\u001b[0m absolute_location \u001b[38;5;241m=\u001b[39m URIRef(rdflib\u001b[38;5;241m.\u001b[39mutil\u001b[38;5;241m.\u001b[39m_iri2uri(location), base\u001b[38;5;241m=\u001b[39mbase)\n\u001b[0;32m    454\u001b[0m \u001b[38;5;28;01mif\u001b[39;00m absolute_location\u001b[38;5;241m.\u001b[39mstartswith(\u001b[38;5;124m\"\u001b[39m\u001b[38;5;124mfile:///\u001b[39m\u001b[38;5;124m\"\u001b[39m):\n\u001b[1;32m--> 455\u001b[0m     filename \u001b[38;5;241m=\u001b[39m \u001b[43murl2pathname\u001b[49m\u001b[43m(\u001b[49m\u001b[43mabsolute_location\u001b[49m\u001b[38;5;241;43m.\u001b[39;49m\u001b[43mreplace\u001b[49m\u001b[43m(\u001b[49m\u001b[38;5;124;43m\"\u001b[39;49m\u001b[38;5;124;43mfile:///\u001b[39;49m\u001b[38;5;124;43m\"\u001b[39;49m\u001b[43m,\u001b[49m\u001b[43m \u001b[49m\u001b[38;5;124;43m\"\u001b[39;49m\u001b[38;5;124;43m/\u001b[39;49m\u001b[38;5;124;43m\"\u001b[39;49m\u001b[43m)\u001b[49m\u001b[43m)\u001b[49m\n\u001b[0;32m    456\u001b[0m     file \u001b[38;5;241m=\u001b[39m \u001b[38;5;28mopen\u001b[39m(filename, \u001b[38;5;124m\"\u001b[39m\u001b[38;5;124mrb\u001b[39m\u001b[38;5;124m\"\u001b[39m)\n\u001b[0;32m    457\u001b[0m \u001b[38;5;28;01melse\u001b[39;00m:\n",
      "File \u001b[1;32m~\\AppData\\Local\\Programs\\Python\\Python311\\Lib\\nturl2path.py:33\u001b[0m, in \u001b[0;36murl2pathname\u001b[1;34m(url)\u001b[0m\n\u001b[0;32m     31\u001b[0m \u001b[38;5;28;01mif\u001b[39;00m \u001b[38;5;28mlen\u001b[39m(comp) \u001b[38;5;241m!=\u001b[39m \u001b[38;5;241m2\u001b[39m \u001b[38;5;129;01mor\u001b[39;00m comp[\u001b[38;5;241m0\u001b[39m][\u001b[38;5;241m-\u001b[39m\u001b[38;5;241m1\u001b[39m] \u001b[38;5;129;01mnot\u001b[39;00m \u001b[38;5;129;01min\u001b[39;00m string\u001b[38;5;241m.\u001b[39mascii_letters:\n\u001b[0;32m     32\u001b[0m     error \u001b[38;5;241m=\u001b[39m \u001b[38;5;124m'\u001b[39m\u001b[38;5;124mBad URL: \u001b[39m\u001b[38;5;124m'\u001b[39m \u001b[38;5;241m+\u001b[39m url\n\u001b[1;32m---> 33\u001b[0m     \u001b[38;5;28;01mraise\u001b[39;00m \u001b[38;5;167;01mOSError\u001b[39;00m(error)\n\u001b[0;32m     34\u001b[0m drive \u001b[38;5;241m=\u001b[39m comp[\u001b[38;5;241m0\u001b[39m][\u001b[38;5;241m-\u001b[39m\u001b[38;5;241m1\u001b[39m]\u001b[38;5;241m.\u001b[39mupper()\n\u001b[0;32m     35\u001b[0m components \u001b[38;5;241m=\u001b[39m comp[\u001b[38;5;241m1\u001b[39m]\u001b[38;5;241m.\u001b[39msplit(\u001b[38;5;124m'\u001b[39m\u001b[38;5;124m/\u001b[39m\u001b[38;5;124m'\u001b[39m)\n",
      "\u001b[1;31mOSError\u001b[0m: Bad URL: /C|/L3_Project/L3_Project/@prefix ex| <http|/example.org/> .ex|0 ex|DestinationIP \"192.168.20.191\" ;    ex|DestinationPort \"51041\" ;    ex|DoH \"False\" ;    ex|Duration \"4.54404\" ;    ex|FlowBytesReceived \"159324\" ;    ex|FlowBytesSent \"11256331\" ;    ex|FlowReceivedRate \"35062.19135\" ;    ex|FlowSentRate \"2477163.713\" ;    ex|PacketLengthCoefficientofVariation \"0.590734751\" ;    ex|PacketLengthMean \"1106.811615\" ;    ex|PacketLengthMedian \"1514.0\" ;    ex|PacketLengthMode \"1514\" ;    ex|PacketLengthSkewFromMedian \"-1.86831632\" ;    ex|PacketLengthSkewFromMode \"-0.622772107\" ;    ex|PacketLengthStandardDeviation \"653.8320845\" ;    ex|PacketLengthVariance \"427496.3947\" ;    ex|PacketTimeCoefficientofVariation \"0.58094867\" ;    ex|PacketTimeMean \"2.257565677\" ;    ex|PacketTimeMedian \"2.2460455\" ;    ex|PacketTimeMode \"0.136072\" ;    ex|PacketTimeSkewFromMedian \"0.026351312\" ;    ex|PacketTimeSkewFromMode \"1.617571871\" ;    ex|PacketTimeStandardDeviation \"1.311529778\" ;    ex|PacketTimeVariance \"1.720110358\" ;    ex|ResponseTimeTimeCoefficientofVariation \"12.45482315\" ;    ex|ResponseTimeTimeMean \"2.67e-05\" ;    ex|ResponseTimeTimeMedian \"1.6e-05\" ;    ex|ResponseTimeTimeMode \"1.4e-05\" ;    ex|ResponseTimeTimeSkewFromMedian \"0.096658872\" ;    ex|ResponseTimeTimeSkewFromMode \"0.038228444\" ;    ex|ResponseTimeTimeStandardDeviation \"0.000332844\" ;    ex|ResponseTimeTimeVariance \"1.11e-07\" ;    ex|SourceIP \"72.21.91.42\" ;    ex|SourcePort \"443\" ;    ex|TimeStamp \"14/01/2020_15|49\" ."
     ]
    }
   ],
   "source": [
    "import rdflib\n",
    "g = rdflib.Graph()\n",
    "rdf=\"\"\"\n",
    "@prefix ex: <http://example.org/> .\n",
    "\n",
    "ex:0 ex:DestinationIP \"192.168.20.191\" ;\n",
    "    ex:DestinationPort \"51041\" ;\n",
    "    ex:DoH \"False\" ;\n",
    "    ex:Duration \"4.54404\" ;\n",
    "    ex:FlowBytesReceived \"159324\" ;\n",
    "    ex:FlowBytesSent \"11256331\" ;\n",
    "    ex:FlowReceivedRate \"35062.19135\" ;\n",
    "    ex:FlowSentRate \"2477163.713\" ;\n",
    "    ex:PacketLengthCoefficientofVariation \"0.590734751\" ;\n",
    "    ex:PacketLengthMean \"1106.811615\" ;\n",
    "    ex:PacketLengthMedian \"1514.0\" ;\n",
    "    ex:PacketLengthMode \"1514\" ;\n",
    "    ex:PacketLengthSkewFromMedian \"-1.86831632\" ;\n",
    "    ex:PacketLengthSkewFromMode \"-0.622772107\" ;\n",
    "    ex:PacketLengthStandardDeviation \"653.8320845\" ;\n",
    "    ex:PacketLengthVariance \"427496.3947\" ;\n",
    "    ex:PacketTimeCoefficientofVariation \"0.58094867\" ;\n",
    "    ex:PacketTimeMean \"2.257565677\" ;\n",
    "    ex:PacketTimeMedian \"2.2460455\" ;\n",
    "    ex:PacketTimeMode \"0.136072\" ;\n",
    "    ex:PacketTimeSkewFromMedian \"0.026351312\" ;\n",
    "    ex:PacketTimeSkewFromMode \"1.617571871\" ;\n",
    "    ex:PacketTimeStandardDeviation \"1.311529778\" ;\n",
    "    ex:PacketTimeVariance \"1.720110358\" ;\n",
    "    ex:ResponseTimeTimeCoefficientofVariation \"12.45482315\" ;\n",
    "    ex:ResponseTimeTimeMean \"2.67e-05\" ;\n",
    "    ex:ResponseTimeTimeMedian \"1.6e-05\" ;\n",
    "    ex:ResponseTimeTimeMode \"1.4e-05\" ;\n",
    "    ex:ResponseTimeTimeSkewFromMedian \"0.096658872\" ;\n",
    "    ex:ResponseTimeTimeSkewFromMode \"0.038228444\" ;\n",
    "    ex:ResponseTimeTimeStandardDeviation \"0.000332844\" ;\n",
    "    ex:ResponseTimeTimeVariance \"1.11e-07\" ;\n",
    "    ex:SourceIP \"72.21.91.42\" ;\n",
    "    ex:SourcePort \"443\" ;\n",
    "    ex:TimeStamp \"14/01/2020_15:49\" .\n",
    "\n",
    "\"\"\"\n",
    "g.parse(data=rdf)\n",
    "\n",
    "knows_query = \"\"\"\n",
    "SELECT DISTINCT ?attacker ?sourceport\n",
    "WHERE {\n",
    "    ?a ex:SourcePort ?b .\n",
    "}\"\"\"\n",
    "\n",
    "qres = g.query(knows_query)"
   ]
  },
  {
   "cell_type": "code",
   "execution_count": null,
   "id": "203fd5a9",
   "metadata": {},
   "outputs": [],
   "source": []
  }
 ],
 "metadata": {
  "kernelspec": {
   "display_name": "Python 3 (ipykernel)",
   "language": "python",
   "name": "python3"
  },
  "language_info": {
   "codemirror_mode": {
    "name": "ipython",
    "version": 3
   },
   "file_extension": ".py",
   "mimetype": "text/x-python",
   "name": "python",
   "nbconvert_exporter": "python",
   "pygments_lexer": "ipython3",
   "version": "3.11.1"
  }
 },
 "nbformat": 4,
 "nbformat_minor": 5
}
