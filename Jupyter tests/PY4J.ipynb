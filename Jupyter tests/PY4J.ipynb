{
 "cells": [
  {
   "cell_type": "code",
   "execution_count": 37,
   "id": "2bc7a08a",
   "metadata": {},
   "outputs": [],
   "source": [
    "from py4j.java_gateway import JavaGateway\n",
    "gateway = JavaGateway()"
   ]
  },
  {
   "cell_type": "code",
   "execution_count": 38,
   "id": "6e256074",
   "metadata": {},
   "outputs": [],
   "source": [
    "HandleStore=gateway.entry_point.getHandleStore()"
   ]
  },
  {
   "cell_type": "markdown",
   "id": "6ab2e283",
   "metadata": {},
   "source": [
    "# Creating Model"
   ]
  },
  {
   "cell_type": "code",
   "execution_count": 42,
   "id": "3f3a79f1",
   "metadata": {},
   "outputs": [
    {
     "data": {
      "text/plain": [
       "JavaObject id=o400"
      ]
     },
     "execution_count": 42,
     "metadata": {},
     "output_type": "execute_result"
    }
   ],
   "source": [
    "HandleStore.createModel(\"http://localhost:5000/Cybersecurity/DataSet\")"
   ]
  },
  {
   "cell_type": "code",
   "execution_count": 43,
   "id": "4bf0f3ce",
   "metadata": {},
   "outputs": [
    {
     "data": {
      "text/plain": [
       "JavaObject id=o401"
      ]
     },
     "execution_count": 43,
     "metadata": {},
     "output_type": "execute_result"
    }
   ],
   "source": [
    "HandleStore.createModel(\"http://localhost:5000/Cybersecurity/DataSet/NSLKDD\")"
   ]
  },
  {
   "cell_type": "code",
   "execution_count": 44,
   "id": "1fce5493",
   "metadata": {},
   "outputs": [
    {
     "data": {
      "text/plain": [
       "JavaObject id=o402"
      ]
     },
     "execution_count": 44,
     "metadata": {},
     "output_type": "execute_result"
    }
   ],
   "source": [
    "HandleStore.createModel(\"http://localhost:5000/Cybersecurity/DataSet/DNS\")"
   ]
  },
  {
   "cell_type": "code",
   "execution_count": 48,
   "id": "51126e43",
   "metadata": {},
   "outputs": [],
   "source": [
    "with open('Dns.ttl', 'r') as f:\n",
    "    rdfdata = f.read()"
   ]
  },
  {
   "cell_type": "code",
   "execution_count": 49,
   "id": "77be0b04",
   "metadata": {},
   "outputs": [
    {
     "name": "stdout",
     "output_type": "stream",
     "text": [
      "<class 'str'>\n"
     ]
    }
   ],
   "source": [
    "print(type(rdfdata))"
   ]
  },
  {
   "cell_type": "code",
   "execution_count": 50,
   "id": "5ebdd42b",
   "metadata": {},
   "outputs": [
    {
     "name": "stdout",
     "output_type": "stream",
     "text": [
      "com.hp.hpl.jena.sparql.resultset.SPARQLResult@36fbe65f\n"
     ]
    }
   ],
   "source": [
    "putbool= HandleStore.putModel(\"http://localhost:5000/Cybersecurity/DataSet/DNS\", rdfdata)\n",
    "print(putbool)"
   ]
  },
  {
   "cell_type": "code",
   "execution_count": 34,
   "id": "24d8dcdf",
   "metadata": {},
   "outputs": [],
   "source": [
    "CreRes = HandleStore.get(\"http://localhost:5000/Cybersecurity/DoH\", \"\"\"CONSTRUCT { ?s ?p  ?o} WHERE { ?s ?p 0}\"\"\")"
   ]
  },
  {
   "cell_type": "code",
   "execution_count": 35,
   "id": "d34392df",
   "metadata": {},
   "outputs": [
    {
     "name": "stdout",
     "output_type": "stream",
     "text": [
      "@prefix xsd:     <http://www.w3.org/2001/XMLSchema#> .\r\n",
      "@prefix rdfs:    <http://www.w3.org/2000/01/rdf-schema#> .\r\n",
      "@prefix owl:     <http://www.w3.org/2002/07/owl#> .\r\n",
      "@prefix rdf:     <http://www.w3.org/1999/02/22-rdf-syntax-ns#> .\r\n",
      "@prefix dc:      <http://purl.org/dc/elements/1.1/> .\r\n",
      "\r\n",
      "\n"
     ]
    }
   ],
   "source": [
    " Cremd = CreRes.getModel()\n",
    "print(HandleStore.PythonModelToTurtle(Cremd))"
   ]
  },
  {
   "cell_type": "markdown",
   "id": "4e9f1fbe",
   "metadata": {},
   "source": [
    "# Deleting something"
   ]
  },
  {
   "cell_type": "code",
   "execution_count": 41,
   "id": "f6320427",
   "metadata": {},
   "outputs": [
    {
     "data": {
      "text/plain": [
       "JavaObject id=o399"
      ]
     },
     "execution_count": 41,
     "metadata": {},
     "output_type": "execute_result"
    }
   ],
   "source": [
    "HandleStore.put(\"http://localhost:5000/Cybersecurity/DoH\", \" DELETE WHERE { ?s ?p ?o }\")"
   ]
  },
  {
   "cell_type": "code",
   "execution_count": null,
   "id": "0c642125",
   "metadata": {},
   "outputs": [],
   "source": []
  }
 ],
 "metadata": {
  "kernelspec": {
   "display_name": "Python 3 (ipykernel)",
   "language": "python",
   "name": "python3"
  },
  "language_info": {
   "codemirror_mode": {
    "name": "ipython",
    "version": 3
   },
   "file_extension": ".py",
   "mimetype": "text/x-python",
   "name": "python",
   "nbconvert_exporter": "python",
   "pygments_lexer": "ipython3",
   "version": "3.11.1"
  }
 },
 "nbformat": 4,
 "nbformat_minor": 5
}
