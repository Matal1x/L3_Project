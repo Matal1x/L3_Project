{
 "cells": [
  {
   "cell_type": "code",
   "execution_count": 2,
   "id": "2bc7a08a",
   "metadata": {},
   "outputs": [],
   "source": [
    "from py4j.java_gateway import JavaGateway\n",
    "gateway = JavaGateway()"
   ]
  },
  {
   "cell_type": "code",
   "execution_count": 3,
   "id": "6e256074",
   "metadata": {},
   "outputs": [],
   "source": [
    "HandleStore=gateway.entry_point.getHandleStore()"
   ]
  },
  {
   "cell_type": "code",
   "execution_count": null,
   "id": "a7332173",
   "metadata": {},
   "outputs": [],
   "source": [
    "HandleStore.createGraph(\"cybersecurity\")"
   ]
  },
  {
   "cell_type": "markdown",
   "id": "9d8b8ded",
   "metadata": {},
   "source": [
    "# SELECT"
   ]
  },
  {
   "cell_type": "code",
   "execution_count": null,
   "id": "083fada5",
   "metadata": {},
   "outputs": [],
   "source": [
    "resSelect = HandleStore.get(\"http://localhost:5000/Birth\", \" SELECT ?s ?p ?o WHERE { ?s ?p ?o }\")"
   ]
  },
  {
   "cell_type": "code",
   "execution_count": null,
   "id": "c016fec0",
   "metadata": {},
   "outputs": [],
   "source": [
    "print(resSelect.isModel())\n",
    "print(resSelect.isResultSet())\n",
    "print(resSelect.isGraph())\n",
    "print(resSelect.isBoolean())"
   ]
  },
  {
   "cell_type": "code",
   "execution_count": null,
   "id": "8d9a9495",
   "metadata": {},
   "outputs": [],
   "source": [
    "rs = resSelect.getResultSet()"
   ]
  },
  {
   "cell_type": "code",
   "execution_count": null,
   "id": "23f76568",
   "metadata": {},
   "outputs": [],
   "source": [
    "print(rs)"
   ]
  },
  {
   "cell_type": "code",
   "execution_count": null,
   "id": "ed10993f",
   "metadata": {},
   "outputs": [],
   "source": [
    "rs = HandleStore.PythonResultSetFormatterText(rs)"
   ]
  },
  {
   "cell_type": "code",
   "execution_count": null,
   "id": "04f8825c",
   "metadata": {
    "scrolled": true
   },
   "outputs": [],
   "source": [
    "print(rs)"
   ]
  },
  {
   "cell_type": "code",
   "execution_count": null,
   "id": "c4b139f8",
   "metadata": {},
   "outputs": [],
   "source": [
    "rs = resSelect.getResultSet()\n",
    "somelist = HandleStore.PythonResultSetToJSON(rs)"
   ]
  },
  {
   "cell_type": "code",
   "execution_count": null,
   "id": "24983d50",
   "metadata": {
    "scrolled": true
   },
   "outputs": [],
   "source": [
    "for s in somelist:\n",
    "    print(s)"
   ]
  },
  {
   "cell_type": "markdown",
   "id": "072d0b49",
   "metadata": {},
   "source": [
    "# turning it into a python dict"
   ]
  },
  {
   "cell_type": "code",
   "execution_count": null,
   "id": "99283724",
   "metadata": {},
   "outputs": [],
   "source": [
    "import json\n",
    "yep=list()\n",
    "\n",
    "for s in somelist:\n",
    "    yep.append(json.loads(s))\n",
    "    \n",
    "for y in yep:\n",
    "    print(y)\n",
    "\n",
    "    \n",
    "print(type(yep[0]))"
   ]
  },
  {
   "cell_type": "markdown",
   "id": "40da2988",
   "metadata": {},
   "source": [
    "# CONSTRUCT"
   ]
  },
  {
   "cell_type": "code",
   "execution_count": null,
   "id": "7f1bbdcb",
   "metadata": {},
   "outputs": [],
   "source": [
    "resConstruct = HandleStore.get(\"http://localhost:5000/Birth\", \"CONSTRUCT { ?s ?p ?o } WHERE { ?s ?p ?o}\")"
   ]
  },
  {
   "cell_type": "code",
   "execution_count": null,
   "id": "2ddcdba3",
   "metadata": {},
   "outputs": [],
   "source": [
    "print(resConstruct.isResultSet())\n",
    "print(resConstruct.isModel())\n",
    "print(resConstruct.isGraph())\n",
    "print(resConstruct.isBoolean())"
   ]
  },
  {
   "cell_type": "code",
   "execution_count": null,
   "id": "1b91d32e",
   "metadata": {},
   "outputs": [],
   "source": [
    "md1 = resConstruct.getModel()\n",
    "print(HandleStore.PythonModelToTurtle(md1))"
   ]
  },
  {
   "cell_type": "markdown",
   "id": "6ab2e283",
   "metadata": {},
   "source": [
    "# Creating Model"
   ]
  },
  {
   "cell_type": "code",
   "execution_count": null,
   "id": "fc789a91",
   "metadata": {},
   "outputs": [],
   "source": [
    "# createdmd= HandleStore.createModel(\"http://localhost:5000/Cybersecurity/DoH\")\n",
    "# print(HandleStore.PythonModelToTurtle(createdmd))"
   ]
  },
  {
   "cell_type": "code",
   "execution_count": null,
   "id": "51126e43",
   "metadata": {},
   "outputs": [],
   "source": [
    "with open('DoH.ttl', 'r') as f:\n",
    "    rdfdata = f.read()"
   ]
  },
  {
   "cell_type": "code",
   "execution_count": null,
   "id": "77be0b04",
   "metadata": {},
   "outputs": [],
   "source": [
    "print(type(rdfdata))"
   ]
  },
  {
   "cell_type": "code",
   "execution_count": null,
   "id": "5ebdd42b",
   "metadata": {},
   "outputs": [],
   "source": [
    "putbool= HandleStore.putModel(\"http://localhost:5000/Cybersecurity/DoH\", rdfdata)\n",
    "print(putbool)"
   ]
  },
  {
   "cell_type": "code",
   "execution_count": 8,
   "id": "24d8dcdf",
   "metadata": {},
   "outputs": [],
   "source": [
    "CreRes = HandleStore.get(\"http://localhost:5000/Cybersecurity/DoH\", \"\"\"CONSTRUCT { ?s ?p  \"False\"} WHERE { ?s ?p \"False\"}\"\"\")"
   ]
  },
  {
   "cell_type": "code",
   "execution_count": 9,
   "id": "d34392df",
   "metadata": {},
   "outputs": [
    {
     "name": "stdout",
     "output_type": "stream",
     "text": [
      "@prefix xsd:     <http://www.w3.org/2001/XMLSchema#> .\r\n",
      "@prefix rdfs:    <http://www.w3.org/2000/01/rdf-schema#> .\r\n",
      "@prefix owl:     <http://www.w3.org/2002/07/owl#> .\r\n",
      "@prefix rdf:     <http://www.w3.org/1999/02/22-rdf-syntax-ns#> .\r\n",
      "@prefix dc:      <http://purl.org/dc/elements/1.1/> .\r\n",
      "\r\n",
      "<http://cybersecurity.org/DNS-over-HTTPS/4>\r\n",
      "      <http://cybersecurity.org/DNS-over-HTTPS/DoH>\r\n",
      "              \"False\" .\r\n",
      "\r\n",
      "<http://cybersecurity.org/DNS-over-HTTPS/5>\r\n",
      "      <http://cybersecurity.org/DNS-over-HTTPS/DoH>\r\n",
      "              \"False\" .\r\n",
      "\r\n",
      "<http://cybersecurity.org/DNS-over-HTTPS/7>\r\n",
      "      <http://cybersecurity.org/DNS-over-HTTPS/DoH>\r\n",
      "              \"False\" .\r\n",
      "\r\n",
      "<http://cybersecurity.org/DNS-over-HTTPS/0>\r\n",
      "      <http://cybersecurity.org/DNS-over-HTTPS/DoH>\r\n",
      "              \"False\" .\r\n",
      "\r\n",
      "<http://cybersecurity.org/DNS-over-HTTPS/1>\r\n",
      "      <http://cybersecurity.org/DNS-over-HTTPS/DoH>\r\n",
      "              \"False\" .\r\n",
      "\r\n",
      "<http://cybersecurity.org/DNS-over-HTTPS/3>\r\n",
      "      <http://cybersecurity.org/DNS-over-HTTPS/DoH>\r\n",
      "              \"False\" .\r\n",
      "\r\n",
      "<http://cybersecurity.org/DNS-over-HTTPS/8>\r\n",
      "      <http://cybersecurity.org/DNS-over-HTTPS/DoH>\r\n",
      "              \"False\" .\r\n",
      "\n"
     ]
    }
   ],
   "source": [
    " Cremd = CreRes.getModel()\n",
    "print(HandleStore.PythonModelToTurtle(Cremd))"
   ]
  },
  {
   "cell_type": "markdown",
   "id": "7c5c6057",
   "metadata": {},
   "source": [
    "# ASK"
   ]
  },
  {
   "cell_type": "code",
   "execution_count": null,
   "id": "a6a85836",
   "metadata": {},
   "outputs": [],
   "source": [
    "resAsk = HandleStore.get(\"http://localhost:5000/Cybersecurity/DoH\", \" ASK { ?s ?p ?o }\")\n",
    "print(resAsk.getBooleanResult())"
   ]
  },
  {
   "cell_type": "markdown",
   "id": "4e9f1fbe",
   "metadata": {},
   "source": [
    "# TESTING SPECIFIC QUERIES "
   ]
  },
  {
   "cell_type": "code",
   "execution_count": null,
   "id": "f6320427",
   "metadata": {},
   "outputs": [],
   "source": [
    "HandleStore.put(\"http://localhost:5000/Cybersecurity/DoH\", \" DELETE WHERE { ?s ?p ?o }\")\n",
    "temp = HandleStore.get(\"http://localhost:5000/Cybersecurity/DoH\", \"CONSTRUCT { ?s ?p ?o } WHERE { ?s ?p ?o}\")"
   ]
  },
  {
   "cell_type": "code",
   "execution_count": null,
   "id": "23ea271f",
   "metadata": {},
   "outputs": [],
   "source": [
    "testset2 = HandleStore.get(\"http://localhost:5000/Cybersecurity/DoH\", \"\"\" SELECT ?s ?p ?o WHERE { ?s ?p ?o\" .\n",
    "                                                                                                    ?s ?p ?o.}\"\"\")\n",
    "t2 = testset2.getResultSet()\n",
    "testlist= HandleStore.PythonResultSetToJSON(t2)\n",
    "for ty in  testlist:\n",
    "    print(ty)"
   ]
  },
  {
   "cell_type": "code",
   "execution_count": 12,
   "id": "d9cb3b69",
   "metadata": {},
   "outputs": [
    {
     "name": "stdout",
     "output_type": "stream",
     "text": [
      "{\"s\": \"http://cybersecurity.org/DNS-over-HTTPS/0\", \"p\": \"http://cybersecurity.org/DNS-over-HTTPS/DestinationIP\", \"o\": \"192.168.20.191^^http://www.w3.org/2001/XMLSchema#string\"}\n",
      "{\"s\": \"http://cybersecurity.org/DNS-over-HTTPS/0\", \"p\": \"http://cybersecurity.org/DNS-over-HTTPS/DestinationPort\", \"o\": \"51041^^http://www.w3.org/2001/XMLSchema#integer\"}\n",
      "{\"s\": \"http://cybersecurity.org/DNS-over-HTTPS/0\", \"p\": \"http://cybersecurity.org/DNS-over-HTTPS/DoH\", \"o\": \"False^^http://www.w3.org/2001/XMLSchema#boolean\"}\n",
      "{\"s\": \"http://cybersecurity.org/DNS-over-HTTPS/0\", \"p\": \"http://cybersecurity.org/DNS-over-HTTPS/Duration\", \"o\": \"4.54404^^http://www.w3.org/2001/XMLSchema#decimal\"}\n",
      "{\"s\": \"http://cybersecurity.org/DNS-over-HTTPS/0\", \"p\": \"http://cybersecurity.org/DNS-over-HTTPS/FlowBytesReceived\", \"o\": \"159324^^http://www.w3.org/2001/XMLSchema#integer\"}\n",
      "{\"s\": \"http://cybersecurity.org/DNS-over-HTTPS/0\", \"p\": \"http://cybersecurity.org/DNS-over-HTTPS/FlowBytesSent\", \"o\": \"11256331^^http://www.w3.org/2001/XMLSchema#integer\"}\n",
      "{\"s\": \"http://cybersecurity.org/DNS-over-HTTPS/0\", \"p\": \"http://cybersecurity.org/DNS-over-HTTPS/FlowReceivedRate\", \"o\": \"35062.19135^^http://www.w3.org/2001/XMLSchema#decimal\"}\n",
      "{\"s\": \"http://cybersecurity.org/DNS-over-HTTPS/0\", \"p\": \"http://cybersecurity.org/DNS-over-HTTPS/FlowSentRate\", \"o\": \"2477163.713^^http://www.w3.org/2001/XMLSchema#decimal\"}\n",
      "{\"s\": \"http://cybersecurity.org/DNS-over-HTTPS/0\", \"p\": \"http://cybersecurity.org/DNS-over-HTTPS/PacketLengthCoefficientofVariation\", \"o\": \"0.590734751^^http://www.w3.org/2001/XMLSchema#decimal\"}\n",
      "{\"s\": \"http://cybersecurity.org/DNS-over-HTTPS/0\", \"p\": \"http://cybersecurity.org/DNS-over-HTTPS/PacketLengthMean\", \"o\": \"1106.811615^^http://www.w3.org/2001/XMLSchema#decimal\"}\n",
      "{\"s\": \"http://cybersecurity.org/DNS-over-HTTPS/0\", \"p\": \"http://cybersecurity.org/DNS-over-HTTPS/PacketLengthMedian\", \"o\": \"1514^^http://www.w3.org/2001/XMLSchema#integer\"}\n",
      "{\"s\": \"http://cybersecurity.org/DNS-over-HTTPS/0\", \"p\": \"http://cybersecurity.org/DNS-over-HTTPS/PacketLengthMode\", \"o\": \"1514^^http://www.w3.org/2001/XMLSchema#integer\"}\n",
      "{\"s\": \"http://cybersecurity.org/DNS-over-HTTPS/0\", \"p\": \"http://cybersecurity.org/DNS-over-HTTPS/PacketLengthSkewFromMedian\", \"o\": \"-1.86831632^^http://www.w3.org/2001/XMLSchema#decimal\"}\n",
      "{\"s\": \"http://cybersecurity.org/DNS-over-HTTPS/0\", \"p\": \"http://cybersecurity.org/DNS-over-HTTPS/PacketLengthSkewFromMode\", \"o\": \"-0.622772107^^http://www.w3.org/2001/XMLSchema#decimal\"}\n",
      "{\"s\": \"http://cybersecurity.org/DNS-over-HTTPS/0\", \"p\": \"http://cybersecurity.org/DNS-over-HTTPS/PacketLengthStandardDeviation\", \"o\": \"653.8320845^^http://www.w3.org/2001/XMLSchema#decimal\"}\n",
      "{\"s\": \"http://cybersecurity.org/DNS-over-HTTPS/0\", \"p\": \"http://cybersecurity.org/DNS-over-HTTPS/PacketLengthVariance\", \"o\": \"427496.3947^^http://www.w3.org/2001/XMLSchema#decimal\"}\n",
      "{\"s\": \"http://cybersecurity.org/DNS-over-HTTPS/0\", \"p\": \"http://cybersecurity.org/DNS-over-HTTPS/PacketTimeCoefficientofVariation\", \"o\": \"0.58094867^^http://www.w3.org/2001/XMLSchema#decimal\"}\n",
      "{\"s\": \"http://cybersecurity.org/DNS-over-HTTPS/0\", \"p\": \"http://cybersecurity.org/DNS-over-HTTPS/PacketTimeMean\", \"o\": \"2.257565677^^http://www.w3.org/2001/XMLSchema#decimal\"}\n",
      "{\"s\": \"http://cybersecurity.org/DNS-over-HTTPS/0\", \"p\": \"http://cybersecurity.org/DNS-over-HTTPS/PacketTimeMedian\", \"o\": \"2.2460455^^http://www.w3.org/2001/XMLSchema#decimal\"}\n",
      "{\"s\": \"http://cybersecurity.org/DNS-over-HTTPS/0\", \"p\": \"http://cybersecurity.org/DNS-over-HTTPS/PacketTimeMode\", \"o\": \"0.136072^^http://www.w3.org/2001/XMLSchema#decimal\"}\n",
      "{\"s\": \"http://cybersecurity.org/DNS-over-HTTPS/0\", \"p\": \"http://cybersecurity.org/DNS-over-HTTPS/PacketTimeSkewFromMedian\", \"o\": \"0.026351312^^http://www.w3.org/2001/XMLSchema#decimal\"}\n",
      "{\"s\": \"http://cybersecurity.org/DNS-over-HTTPS/0\", \"p\": \"http://cybersecurity.org/DNS-over-HTTPS/PacketTimeSkewFromMode\", \"o\": \"1.617571871^^http://www.w3.org/2001/XMLSchema#decimal\"}\n",
      "{\"s\": \"http://cybersecurity.org/DNS-over-HTTPS/0\", \"p\": \"http://cybersecurity.org/DNS-over-HTTPS/PacketTimeStandardDeviation\", \"o\": \"1.311529778^^http://www.w3.org/2001/XMLSchema#decimal\"}\n",
      "{\"s\": \"http://cybersecurity.org/DNS-over-HTTPS/0\", \"p\": \"http://cybersecurity.org/DNS-over-HTTPS/PacketTimeVariance\", \"o\": \"1.720110358^^http://www.w3.org/2001/XMLSchema#decimal\"}\n",
      "{\"s\": \"http://cybersecurity.org/DNS-over-HTTPS/0\", \"p\": \"http://cybersecurity.org/DNS-over-HTTPS/ResponseTimeTimeCoefficientofVariation\", \"o\": \"12.45482315^^http://www.w3.org/2001/XMLSchema#decimal\"}\n",
      "{\"s\": \"http://cybersecurity.org/DNS-over-HTTPS/0\", \"p\": \"http://cybersecurity.org/DNS-over-HTTPS/ResponseTimeTimeMean\", \"o\": \"2.67E-5^^http://www.w3.org/2001/XMLSchema#decimal\"}\n",
      "{\"s\": \"http://cybersecurity.org/DNS-over-HTTPS/0\", \"p\": \"http://cybersecurity.org/DNS-over-HTTPS/ResponseTimeTimeMedian\", \"o\": \"1.6E-5^^http://www.w3.org/2001/XMLSchema#decimal\"}\n",
      "{\"s\": \"http://cybersecurity.org/DNS-over-HTTPS/0\", \"p\": \"http://cybersecurity.org/DNS-over-HTTPS/ResponseTimeTimeMode\", \"o\": \"1.4E-5^^http://www.w3.org/2001/XMLSchema#decimal\"}\n",
      "{\"s\": \"http://cybersecurity.org/DNS-over-HTTPS/0\", \"p\": \"http://cybersecurity.org/DNS-over-HTTPS/ResponseTimeTimeSkewFromMedian\", \"o\": \"0.096658872^^http://www.w3.org/2001/XMLSchema#decimal\"}\n",
      "{\"s\": \"http://cybersecurity.org/DNS-over-HTTPS/0\", \"p\": \"http://cybersecurity.org/DNS-over-HTTPS/ResponseTimeTimeSkewFromMode\", \"o\": \"0.038228444^^http://www.w3.org/2001/XMLSchema#decimal\"}\n",
      "{\"s\": \"http://cybersecurity.org/DNS-over-HTTPS/0\", \"p\": \"http://cybersecurity.org/DNS-over-HTTPS/ResponseTimeTimeStandardDeviation\", \"o\": \"3.32844E-4^^http://www.w3.org/2001/XMLSchema#decimal\"}\n",
      "{\"s\": \"http://cybersecurity.org/DNS-over-HTTPS/0\", \"p\": \"http://cybersecurity.org/DNS-over-HTTPS/ResponseTimeTimeVariance\", \"o\": \"1.11E-7^^http://www.w3.org/2001/XMLSchema#decimal\"}\n",
      "{\"s\": \"http://cybersecurity.org/DNS-over-HTTPS/0\", \"p\": \"http://cybersecurity.org/DNS-over-HTTPS/SourceIP\", \"o\": \"72.21.91.42^^http://www.w3.org/2001/XMLSchema#string\"}\n",
      "{\"s\": \"http://cybersecurity.org/DNS-over-HTTPS/0\", \"p\": \"http://cybersecurity.org/DNS-over-HTTPS/SourcePort\", \"o\": \"443^^http://www.w3.org/2001/XMLSchema#integer\"}\n",
      "{\"s\": \"http://cybersecurity.org/DNS-over-HTTPS/0\", \"p\": \"http://cybersecurity.org/DNS-over-HTTPS/TimeStamp\", \"o\": \"14/01/2020_15:49^^http://www.w3.org/2001/XMLSchema#string\"}\n",
      "{\"s\": \"http://cybersecurity.org/DNS-over-HTTPS/1\", \"p\": \"http://cybersecurity.org/DNS-over-HTTPS/DestinationIP\", \"o\": \"195.201.169.48^^http://www.w3.org/2001/XMLSchema#string\"}\n",
      "{\"s\": \"http://cybersecurity.org/DNS-over-HTTPS/1\", \"p\": \"http://cybersecurity.org/DNS-over-HTTPS/DestinationPort\", \"o\": \"443^^http://www.w3.org/2001/XMLSchema#integer\"}\n",
      "{\"s\": \"http://cybersecurity.org/DNS-over-HTTPS/1\", \"p\": \"http://cybersecurity.org/DNS-over-HTTPS/DoH\", \"o\": \"False^^http://www.w3.org/2001/XMLSchema#boolean\"}\n",
      "{\"s\": \"http://cybersecurity.org/DNS-over-HTTPS/1\", \"p\": \"http://cybersecurity.org/DNS-over-HTTPS/Duration\", \"o\": \"8.171041^^http://www.w3.org/2001/XMLSchema#decimal\"}\n",
      "{\"s\": \"http://cybersecurity.org/DNS-over-HTTPS/1\", \"p\": \"http://cybersecurity.org/DNS-over-HTTPS/FlowBytesReceived\", \"o\": \"11936^^http://www.w3.org/2001/XMLSchema#integer\"}\n",
      "{\"s\": \"http://cybersecurity.org/DNS-over-HTTPS/1\", \"p\": \"http://cybersecurity.org/DNS-over-HTTPS/FlowBytesSent\", \"o\": \"930^^http://www.w3.org/2001/XMLSchema#integer\"}\n",
      "{\"s\": \"http://cybersecurity.org/DNS-over-HTTPS/1\", \"p\": \"http://cybersecurity.org/DNS-over-HTTPS/FlowReceivedRate\", \"o\": \"1460.768585^^http://www.w3.org/2001/XMLSchema#decimal\"}\n",
      "{\"s\": \"http://cybersecurity.org/DNS-over-HTTPS/1\", \"p\": \"http://cybersecurity.org/DNS-over-HTTPS/FlowSentRate\", \"o\": \"113.8165871^^http://www.w3.org/2001/XMLSchema#decimal\"}\n",
      "{\"s\": \"http://cybersecurity.org/DNS-over-HTTPS/1\", \"p\": \"http://cybersecurity.org/DNS-over-HTTPS/PacketLengthCoefficientofVariation\", \"o\": \"0.973195018^^http://www.w3.org/2001/XMLSchema#decimal\"}\n",
      "{\"s\": \"http://cybersecurity.org/DNS-over-HTTPS/1\", \"p\": \"http://cybersecurity.org/DNS-over-HTTPS/PacketLengthMean\", \"o\": \"677.1578947^^http://www.w3.org/2001/XMLSchema#decimal\"}\n",
      "{\"s\": \"http://cybersecurity.org/DNS-over-HTTPS/1\", \"p\": \"http://cybersecurity.org/DNS-over-HTTPS/PacketLengthMedian\", \"o\": \"328^^http://www.w3.org/2001/XMLSchema#integer\"}\n",
      "{\"s\": \"http://cybersecurity.org/DNS-over-HTTPS/1\", \"p\": \"http://cybersecurity.org/DNS-over-HTTPS/PacketLengthMode\", \"o\": \"1514^^http://www.w3.org/2001/XMLSchema#integer\"}\n",
      "{\"s\": \"http://cybersecurity.org/DNS-over-HTTPS/1\", \"p\": \"http://cybersecurity.org/DNS-over-HTTPS/PacketLengthSkewFromMedian\", \"o\": \"1.589473522^^http://www.w3.org/2001/XMLSchema#decimal\"}\n",
      "{\"s\": \"http://cybersecurity.org/DNS-over-HTTPS/1\", \"p\": \"http://cybersecurity.org/DNS-over-HTTPS/PacketLengthSkewFromMode\", \"o\": \"-1.269853733^^http://www.w3.org/2001/XMLSchema#decimal\"}\n",
      "{\"s\": \"http://cybersecurity.org/DNS-over-HTTPS/1\", \"p\": \"http://cybersecurity.org/DNS-over-HTTPS/PacketLengthStandardDeviation\", \"o\": \"659.0066898^^http://www.w3.org/2001/XMLSchema#decimal\"}\n",
      "{\"s\": \"http://cybersecurity.org/DNS-over-HTTPS/1\", \"p\": \"http://cybersecurity.org/DNS-over-HTTPS/PacketLengthVariance\", \"o\": \"434289.8172^^http://www.w3.org/2001/XMLSchema#decimal\"}\n",
      "{\"s\": \"http://cybersecurity.org/DNS-over-HTTPS/1\", \"p\": \"http://cybersecurity.org/DNS-over-HTTPS/PacketTimeCoefficientofVariation\", \"o\": \"1.745138306^^http://www.w3.org/2001/XMLSchema#decimal\"}\n",
      "{\"s\": \"http://cybersecurity.org/DNS-over-HTTPS/1\", \"p\": \"http://cybersecurity.org/DNS-over-HTTPS/PacketTimeMean\", \"o\": \"1.559658526^^http://www.w3.org/2001/XMLSchema#decimal\"}\n",
      "{\"s\": \"http://cybersecurity.org/DNS-over-HTTPS/1\", \"p\": \"http://cybersecurity.org/DNS-over-HTTPS/PacketTimeMedian\", \"o\": \"0.212176^^http://www.w3.org/2001/XMLSchema#decimal\"}\n",
      "{\"s\": \"http://cybersecurity.org/DNS-over-HTTPS/1\", \"p\": \"http://cybersecurity.org/DNS-over-HTTPS/PacketTimeMode\", \"o\": \"0.212108^^http://www.w3.org/2001/XMLSchema#decimal\"}\n",
      "{\"s\": \"http://cybersecurity.org/DNS-over-HTTPS/1\", \"p\": \"http://cybersecurity.org/DNS-over-HTTPS/PacketTimeSkewFromMedian\", \"o\": \"1.485200277^^http://www.w3.org/2001/XMLSchema#decimal\"}\n",
      "{\"s\": \"http://cybersecurity.org/DNS-over-HTTPS/1\", \"p\": \"http://cybersecurity.org/DNS-over-HTTPS/PacketTimeSkewFromMode\", \"o\": \"0.495091742^^http://www.w3.org/2001/XMLSchema#decimal\"}\n",
      "{\"s\": \"http://cybersecurity.org/DNS-over-HTTPS/1\", \"p\": \"http://cybersecurity.org/DNS-over-HTTPS/PacketTimeStandardDeviation\", \"o\": \"2.721819839^^http://www.w3.org/2001/XMLSchema#decimal\"}\n",
      "{\"s\": \"http://cybersecurity.org/DNS-over-HTTPS/1\", \"p\": \"http://cybersecurity.org/DNS-over-HTTPS/PacketTimeVariance\", \"o\": \"7.408303234^^http://www.w3.org/2001/XMLSchema#decimal\"}\n",
      "{\"s\": \"http://cybersecurity.org/DNS-over-HTTPS/1\", \"p\": \"http://cybersecurity.org/DNS-over-HTTPS/ResponseTimeTimeCoefficientofVariation\", \"o\": \"2.025272751^^http://www.w3.org/2001/XMLSchema#decimal\"}\n",
      "{\"s\": \"http://cybersecurity.org/DNS-over-HTTPS/1\", \"p\": \"http://cybersecurity.org/DNS-over-HTTPS/ResponseTimeTimeMean\", \"o\": \"0.886579167^^http://www.w3.org/2001/XMLSchema#decimal\"}\n",
      "{\"s\": \"http://cybersecurity.org/DNS-over-HTTPS/1\", \"p\": \"http://cybersecurity.org/DNS-over-HTTPS/ResponseTimeTimeMedian\", \"o\": \"0.1036985^^http://www.w3.org/2001/XMLSchema#decimal\"}\n",
      "{\"s\": \"http://cybersecurity.org/DNS-over-HTTPS/1\", \"p\": \"http://cybersecurity.org/DNS-over-HTTPS/ResponseTimeTimeMode\", \"o\": \"9.0E-4^^http://www.w3.org/2001/XMLSchema#decimal\"}\n",
      "{\"s\": \"http://cybersecurity.org/DNS-over-HTTPS/1\", \"p\": \"http://cybersecurity.org/DNS-over-HTTPS/ResponseTimeTimeSkewFromMedian\", \"o\": \"1.308024208^^http://www.w3.org/2001/XMLSchema#decimal\"}\n",
      "{\"s\": \"http://cybersecurity.org/DNS-over-HTTPS/1\", \"p\": \"http://cybersecurity.org/DNS-over-HTTPS/ResponseTimeTimeSkewFromMode\", \"o\": \"0.49325942^^http://www.w3.org/2001/XMLSchema#decimal\"}\n",
      "{\"s\": \"http://cybersecurity.org/DNS-over-HTTPS/1\", \"p\": \"http://cybersecurity.org/DNS-over-HTTPS/ResponseTimeTimeStandardDeviation\", \"o\": \"1.795564628^^http://www.w3.org/2001/XMLSchema#decimal\"}\n",
      "{\"s\": \"http://cybersecurity.org/DNS-over-HTTPS/1\", \"p\": \"http://cybersecurity.org/DNS-over-HTTPS/ResponseTimeTimeVariance\", \"o\": \"3.224052333^^http://www.w3.org/2001/XMLSchema#decimal\"}\n",
      "{\"s\": \"http://cybersecurity.org/DNS-over-HTTPS/1\", \"p\": \"http://cybersecurity.org/DNS-over-HTTPS/SourceIP\", \"o\": \"192.168.20.191^^http://www.w3.org/2001/XMLSchema#string\"}\n",
      "{\"s\": \"http://cybersecurity.org/DNS-over-HTTPS/1\", \"p\": \"http://cybersecurity.org/DNS-over-HTTPS/SourcePort\", \"o\": \"51043^^http://www.w3.org/2001/XMLSchema#integer\"}\n",
      "{\"s\": \"http://cybersecurity.org/DNS-over-HTTPS/1\", \"p\": \"http://cybersecurity.org/DNS-over-HTTPS/TimeStamp\", \"o\": \"14/01/2020_15:49^^http://www.w3.org/2001/XMLSchema#string\"}\n",
      "{\"s\": \"http://cybersecurity.org/DNS-over-HTTPS/2\", \"p\": \"http://cybersecurity.org/DNS-over-HTTPS/DestinationIP\", \"o\": \"96.17.115.57^^http://www.w3.org/2001/XMLSchema#string\"}\n",
      "{\"s\": \"http://cybersecurity.org/DNS-over-HTTPS/2\", \"p\": \"http://cybersecurity.org/DNS-over-HTTPS/DestinationPort\", \"o\": \"443^^http://www.w3.org/2001/XMLSchema#integer\"}\n",
      "{\"s\": \"http://cybersecurity.org/DNS-over-HTTPS/2\", \"p\": \"http://cybersecurity.org/DNS-over-HTTPS/DoH\", \"o\": \"True^^http://www.w3.org/2001/XMLSchema#boolean\"}\n",
      "{\"s\": \"http://cybersecurity.org/DNS-over-HTTPS/2\", \"p\": \"http://cybersecurity.org/DNS-over-HTTPS/Duration\", \"o\": \"0.033776^^http://www.w3.org/2001/XMLSchema#decimal\"}\n",
      "{\"s\": \"http://cybersecurity.org/DNS-over-HTTPS/2\", \"p\": \"http://cybersecurity.org/DNS-over-HTTPS/FlowBytesReceived\", \"o\": \"138^^http://www.w3.org/2001/XMLSchema#integer\"}\n",
      "{\"s\": \"http://cybersecurity.org/DNS-over-HTTPS/2\", \"p\": \"http://cybersecurity.org/DNS-over-HTTPS/FlowBytesSent\", \"o\": \"162^^http://www.w3.org/2001/XMLSchema#integer\"}\n",
      "{\"s\": \"http://cybersecurity.org/DNS-over-HTTPS/2\", \"p\": \"http://cybersecurity.org/DNS-over-HTTPS/FlowReceivedRate\", \"o\": \"4085.741355^^http://www.w3.org/2001/XMLSchema#decimal\"}\n",
      "{\"s\": \"http://cybersecurity.org/DNS-over-HTTPS/2\", \"p\": \"http://cybersecurity.org/DNS-over-HTTPS/FlowSentRate\", \"o\": \"4796.305069^^http://www.w3.org/2001/XMLSchema#decimal\"}\n",
      "{\"s\": \"http://cybersecurity.org/DNS-over-HTTPS/2\", \"p\": \"http://cybersecurity.org/DNS-over-HTTPS/PacketLengthCoefficientofVariation\", \"o\": \"0.154919334^^http://www.w3.org/2001/XMLSchema#decimal\"}\n",
      "{\"s\": \"http://cybersecurity.org/DNS-over-HTTPS/2\", \"p\": \"http://cybersecurity.org/DNS-over-HTTPS/PacketLengthMean\", \"o\": \"60^^http://www.w3.org/2001/XMLSchema#integer\"}\n",
      "{\"s\": \"http://cybersecurity.org/DNS-over-HTTPS/2\", \"p\": \"http://cybersecurity.org/DNS-over-HTTPS/PacketLengthMedian\", \"o\": \"54^^http://www.w3.org/2001/XMLSchema#integer\"}\n",
      "{\"s\": \"http://cybersecurity.org/DNS-over-HTTPS/2\", \"p\": \"http://cybersecurity.org/DNS-over-HTTPS/PacketLengthMode\", \"o\": \"54^^http://www.w3.org/2001/XMLSchema#integer\"}\n",
      "{\"s\": \"http://cybersecurity.org/DNS-over-HTTPS/2\", \"p\": \"http://cybersecurity.org/DNS-over-HTTPS/PacketLengthSkewFromMedian\", \"o\": \"1.936491673^^http://www.w3.org/2001/XMLSchema#decimal\"}\n",
      "{\"s\": \"http://cybersecurity.org/DNS-over-HTTPS/2\", \"p\": \"http://cybersecurity.org/DNS-over-HTTPS/PacketLengthSkewFromMode\", \"o\": \"0.645497224^^http://www.w3.org/2001/XMLSchema#decimal\"}\n",
      "{\"s\": \"http://cybersecurity.org/DNS-over-HTTPS/2\", \"p\": \"http://cybersecurity.org/DNS-over-HTTPS/PacketLengthStandardDeviation\", \"o\": \"9.295160031^^http://www.w3.org/2001/XMLSchema#decimal\"}\n",
      "{\"s\": \"http://cybersecurity.org/DNS-over-HTTPS/2\", \"p\": \"http://cybersecurity.org/DNS-over-HTTPS/PacketLengthVariance\", \"o\": \"86.4^^http://www.w3.org/2001/XMLSchema#decimal\"}\n",
      "{\"s\": \"http://cybersecurity.org/DNS-over-HTTPS/2\", \"p\": \"http://cybersecurity.org/DNS-over-HTTPS/PacketTimeCoefficientofVariation\", \"o\": \"0.500001774^^http://www.w3.org/2001/XMLSchema#decimal\"}\n",
      "{\"s\": \"http://cybersecurity.org/DNS-over-HTTPS/2\", \"p\": \"http://cybersecurity.org/DNS-over-HTTPS/PacketTimeMean\", \"o\": \"0.0269778^^http://www.w3.org/2001/XMLSchema#decimal\"}\n",
      "{\"s\": \"http://cybersecurity.org/DNS-over-HTTPS/2\", \"p\": \"http://cybersecurity.org/DNS-over-HTTPS/PacketTimeMedian\", \"o\": \"0.033684^^http://www.w3.org/2001/XMLSchema#decimal\"}\n",
      "{\"s\": \"http://cybersecurity.org/DNS-over-HTTPS/2\", \"p\": \"http://cybersecurity.org/DNS-over-HTTPS/PacketTimeMode\", \"o\": \"0^^http://www.w3.org/2001/XMLSchema#integer\"}\n",
      "{\"s\": \"http://cybersecurity.org/DNS-over-HTTPS/2\", \"p\": \"http://cybersecurity.org/DNS-over-HTTPS/PacketTimeSkewFromMedian\", \"o\": \"-1.491487713^^http://www.w3.org/2001/XMLSchema#decimal\"}\n",
      "{\"s\": \"http://cybersecurity.org/DNS-over-HTTPS/2\", \"p\": \"http://cybersecurity.org/DNS-over-HTTPS/PacketTimeSkewFromMode\", \"o\": \"1.999992903^^http://www.w3.org/2001/XMLSchema#decimal\"}\n",
      "{\"s\": \"http://cybersecurity.org/DNS-over-HTTPS/2\", \"p\": \"http://cybersecurity.org/DNS-over-HTTPS/PacketTimeStandardDeviation\", \"o\": \"0.013488948^^http://www.w3.org/2001/XMLSchema#decimal\"}\n",
      "{\"s\": \"http://cybersecurity.org/DNS-over-HTTPS/2\", \"p\": \"http://cybersecurity.org/DNS-over-HTTPS/PacketTimeVariance\", \"o\": \"1.81952E-4^^http://www.w3.org/2001/XMLSchema#decimal\"}\n",
      "{\"s\": \"http://cybersecurity.org/DNS-over-HTTPS/2\", \"p\": \"http://cybersecurity.org/DNS-over-HTTPS/ResponseTimeTimeCoefficientofVariation\", \"o\": \"0^^http://www.w3.org/2001/XMLSchema#integer\"}\n",
      "{\"s\": \"http://cybersecurity.org/DNS-over-HTTPS/2\", \"p\": \"http://cybersecurity.org/DNS-over-HTTPS/ResponseTimeTimeMean\", \"o\": \"0.033683^^http://www.w3.org/2001/XMLSchema#decimal\"}\n",
      "{\"s\": \"http://cybersecurity.org/DNS-over-HTTPS/2\", \"p\": \"http://cybersecurity.org/DNS-over-HTTPS/ResponseTimeTimeMedian\", \"o\": \"0.033683^^http://www.w3.org/2001/XMLSchema#decimal\"}\n",
      "{\"s\": \"http://cybersecurity.org/DNS-over-HTTPS/2\", \"p\": \"http://cybersecurity.org/DNS-over-HTTPS/ResponseTimeTimeMode\", \"o\": \"0.033683^^http://www.w3.org/2001/XMLSchema#decimal\"}\n",
      "{\"s\": \"http://cybersecurity.org/DNS-over-HTTPS/2\", \"p\": \"http://cybersecurity.org/DNS-over-HTTPS/ResponseTimeTimeSkewFromMedian\", \"o\": \"-10^^http://www.w3.org/2001/XMLSchema#integer\"}\n",
      "{\"s\": \"http://cybersecurity.org/DNS-over-HTTPS/2\", \"p\": \"http://cybersecurity.org/DNS-over-HTTPS/ResponseTimeTimeSkewFromMode\", \"o\": \"-10^^http://www.w3.org/2001/XMLSchema#integer\"}\n",
      "{\"s\": \"http://cybersecurity.org/DNS-over-HTTPS/2\", \"p\": \"http://cybersecurity.org/DNS-over-HTTPS/ResponseTimeTimeStandardDeviation\", \"o\": \"0^^http://www.w3.org/2001/XMLSchema#integer\"}\n",
      "{\"s\": \"http://cybersecurity.org/DNS-over-HTTPS/2\", \"p\": \"http://cybersecurity.org/DNS-over-HTTPS/ResponseTimeTimeVariance\", \"o\": \"0^^http://www.w3.org/2001/XMLSchema#integer\"}\n",
      "{\"s\": \"http://cybersecurity.org/DNS-over-HTTPS/2\", \"p\": \"http://cybersecurity.org/DNS-over-HTTPS/SourceIP\", \"o\": \"192.168.20.191^^http://www.w3.org/2001/XMLSchema#string\"}\n",
      "{\"s\": \"http://cybersecurity.org/DNS-over-HTTPS/2\", \"p\": \"http://cybersecurity.org/DNS-over-HTTPS/SourcePort\", \"o\": \"51021^^http://www.w3.org/2001/XMLSchema#integer\"}\n",
      "{\"s\": \"http://cybersecurity.org/DNS-over-HTTPS/2\", \"p\": \"http://cybersecurity.org/DNS-over-HTTPS/TimeStamp\", \"o\": \"14/01/2020_15:49^^http://www.w3.org/2001/XMLSchema#string\"}\n",
      "{\"s\": \"http://cybersecurity.org/DNS-over-HTTPS/3\", \"p\": \"http://cybersecurity.org/DNS-over-HTTPS/DestinationIP\", \"o\": \"96.114.14.140^^http://www.w3.org/2001/XMLSchema#string\"}\n",
      "{\"s\": \"http://cybersecurity.org/DNS-over-HTTPS/3\", \"p\": \"http://cybersecurity.org/DNS-over-HTTPS/DestinationPort\", \"o\": \"443^^http://www.w3.org/2001/XMLSchema#integer\"}\n",
      "{\"s\": \"http://cybersecurity.org/DNS-over-HTTPS/3\", \"p\": \"http://cybersecurity.org/DNS-over-HTTPS/DoH\", \"o\": \"False^^http://www.w3.org/2001/XMLSchema#boolean\"}\n",
      "{\"s\": \"http://cybersecurity.org/DNS-over-HTTPS/3\", \"p\": \"http://cybersecurity.org/DNS-over-HTTPS/Duration\", \"o\": \"0.060723^^http://www.w3.org/2001/XMLSchema#decimal\"}\n",
      "{\"s\": \"http://cybersecurity.org/DNS-over-HTTPS/3\", \"p\": \"http://cybersecurity.org/DNS-over-HTTPS/FlowBytesReceived\", \"o\": \"120^^http://www.w3.org/2001/XMLSchema#integer\"}\n",
      "{\"s\": \"http://cybersecurity.org/DNS-over-HTTPS/3\", \"p\": \"http://cybersecurity.org/DNS-over-HTTPS/FlowBytesSent\", \"o\": \"108^^http://www.w3.org/2001/XMLSchema#integer\"}\n",
      "{\"s\": \"http://cybersecurity.org/DNS-over-HTTPS/3\", \"p\": \"http://cybersecurity.org/DNS-over-HTTPS/FlowReceivedRate\", \"o\": \"1976.186947^^http://www.w3.org/2001/XMLSchema#decimal\"}\n",
      "{\"s\": \"http://cybersecurity.org/DNS-over-HTTPS/3\", \"p\": \"http://cybersecurity.org/DNS-over-HTTPS/FlowSentRate\", \"o\": \"1778.568253^^http://www.w3.org/2001/XMLSchema#decimal\"}\n",
      "{\"s\": \"http://cybersecurity.org/DNS-over-HTTPS/3\", \"p\": \"http://cybersecurity.org/DNS-over-HTTPS/PacketLengthCoefficientofVariation\", \"o\": \"0.052631579^^http://www.w3.org/2001/XMLSchema#decimal\"}\n",
      "{\"s\": \"http://cybersecurity.org/DNS-over-HTTPS/3\", \"p\": \"http://cybersecurity.org/DNS-over-HTTPS/PacketLengthMean\", \"o\": \"57^^http://www.w3.org/2001/XMLSchema#integer\"}\n",
      "{\"s\": \"http://cybersecurity.org/DNS-over-HTTPS/3\", \"p\": \"http://cybersecurity.org/DNS-over-HTTPS/PacketLengthMedian\", \"o\": \"57^^http://www.w3.org/2001/XMLSchema#integer\"}\n",
      "{\"s\": \"http://cybersecurity.org/DNS-over-HTTPS/3\", \"p\": \"http://cybersecurity.org/DNS-over-HTTPS/PacketLengthMode\", \"o\": \"54^^http://www.w3.org/2001/XMLSchema#integer\"}\n",
      "{\"s\": \"http://cybersecurity.org/DNS-over-HTTPS/3\", \"p\": \"http://cybersecurity.org/DNS-over-HTTPS/PacketLengthSkewFromMedian\", \"o\": \"0^^http://www.w3.org/2001/XMLSchema#integer\"}\n",
      "{\"s\": \"http://cybersecurity.org/DNS-over-HTTPS/3\", \"p\": \"http://cybersecurity.org/DNS-over-HTTPS/PacketLengthSkewFromMode\", \"o\": \"1^^http://www.w3.org/2001/XMLSchema#integer\"}\n",
      "{\"s\": \"http://cybersecurity.org/DNS-over-HTTPS/3\", \"p\": \"http://cybersecurity.org/DNS-over-HTTPS/PacketLengthStandardDeviation\", \"o\": \"3^^http://www.w3.org/2001/XMLSchema#integer\"}\n",
      "{\"s\": \"http://cybersecurity.org/DNS-over-HTTPS/3\", \"p\": \"http://cybersecurity.org/DNS-over-HTTPS/PacketLengthVariance\", \"o\": \"9^^http://www.w3.org/2001/XMLSchema#integer\"}\n",
      "{\"s\": \"http://cybersecurity.org/DNS-over-HTTPS/3\", \"p\": \"http://cybersecurity.org/DNS-over-HTTPS/PacketTimeCoefficientofVariation\", \"o\": \"0.577350357^^http://www.w3.org/2001/XMLSchema#decimal\"}\n",
      "{\"s\": \"http://cybersecurity.org/DNS-over-HTTPS/3\", \"p\": \"http://cybersecurity.org/DNS-over-HTTPS/PacketTimeMean\", \"o\": \"0.0455245^^http://www.w3.org/2001/XMLSchema#decimal\"}\n",
      "{\"s\": \"http://cybersecurity.org/DNS-over-HTTPS/3\", \"p\": \"http://cybersecurity.org/DNS-over-HTTPS/PacketTimeMedian\", \"o\": \"0.0606875^^http://www.w3.org/2001/XMLSchema#decimal\"}\n",
      "{\"s\": \"http://cybersecurity.org/DNS-over-HTTPS/3\", \"p\": \"http://cybersecurity.org/DNS-over-HTTPS/PacketTimeMode\", \"o\": \"0^^http://www.w3.org/2001/XMLSchema#integer\"}\n",
      "{\"s\": \"http://cybersecurity.org/DNS-over-HTTPS/3\", \"p\": \"http://cybersecurity.org/DNS-over-HTTPS/PacketTimeSkewFromMedian\", \"o\": \"-1.730699891^^http://www.w3.org/2001/XMLSchema#decimal\"}\n",
      "{\"s\": \"http://cybersecurity.org/DNS-over-HTTPS/3\", \"p\": \"http://cybersecurity.org/DNS-over-HTTPS/PacketTimeSkewFromMode\", \"o\": \"1.732050544^^http://www.w3.org/2001/XMLSchema#decimal\"}\n",
      "{\"s\": \"http://cybersecurity.org/DNS-over-HTTPS/3\", \"p\": \"http://cybersecurity.org/DNS-over-HTTPS/PacketTimeStandardDeviation\", \"o\": \"0.026283586^^http://www.w3.org/2001/XMLSchema#decimal\"}\n",
      "{\"s\": \"http://cybersecurity.org/DNS-over-HTTPS/3\", \"p\": \"http://cybersecurity.org/DNS-over-HTTPS/PacketTimeVariance\", \"o\": \"6.90827E-4^^http://www.w3.org/2001/XMLSchema#decimal\"}\n",
      "{\"s\": \"http://cybersecurity.org/DNS-over-HTTPS/3\", \"p\": \"http://cybersecurity.org/DNS-over-HTTPS/ResponseTimeTimeCoefficientofVariation\", \"o\": \"0^^http://www.w3.org/2001/XMLSchema#integer\"}\n",
      "{\"s\": \"http://cybersecurity.org/DNS-over-HTTPS/3\", \"p\": \"http://cybersecurity.org/DNS-over-HTTPS/ResponseTimeTimeMean\", \"o\": \"0.060687^^http://www.w3.org/2001/XMLSchema#decimal\"}\n",
      "{\"s\": \"http://cybersecurity.org/DNS-over-HTTPS/3\", \"p\": \"http://cybersecurity.org/DNS-over-HTTPS/ResponseTimeTimeMedian\", \"o\": \"0.060687^^http://www.w3.org/2001/XMLSchema#decimal\"}\n",
      "{\"s\": \"http://cybersecurity.org/DNS-over-HTTPS/3\", \"p\": \"http://cybersecurity.org/DNS-over-HTTPS/ResponseTimeTimeMode\", \"o\": \"0.060687^^http://www.w3.org/2001/XMLSchema#decimal\"}\n",
      "{\"s\": \"http://cybersecurity.org/DNS-over-HTTPS/3\", \"p\": \"http://cybersecurity.org/DNS-over-HTTPS/ResponseTimeTimeSkewFromMedian\", \"o\": \"-10^^http://www.w3.org/2001/XMLSchema#integer\"}\n",
      "{\"s\": \"http://cybersecurity.org/DNS-over-HTTPS/3\", \"p\": \"http://cybersecurity.org/DNS-over-HTTPS/ResponseTimeTimeSkewFromMode\", \"o\": \"-10^^http://www.w3.org/2001/XMLSchema#integer\"}\n",
      "{\"s\": \"http://cybersecurity.org/DNS-over-HTTPS/3\", \"p\": \"http://cybersecurity.org/DNS-over-HTTPS/ResponseTimeTimeStandardDeviation\", \"o\": \"0^^http://www.w3.org/2001/XMLSchema#integer\"}\n",
      "{\"s\": \"http://cybersecurity.org/DNS-over-HTTPS/3\", \"p\": \"http://cybersecurity.org/DNS-over-HTTPS/ResponseTimeTimeVariance\", \"o\": \"0^^http://www.w3.org/2001/XMLSchema#integer\"}\n",
      "{\"s\": \"http://cybersecurity.org/DNS-over-HTTPS/3\", \"p\": \"http://cybersecurity.org/DNS-over-HTTPS/SourceIP\", \"o\": \"192.168.20.191^^http://www.w3.org/2001/XMLSchema#string\"}\n",
      "{\"s\": \"http://cybersecurity.org/DNS-over-HTTPS/3\", \"p\": \"http://cybersecurity.org/DNS-over-HTTPS/SourcePort\", \"o\": \"50308^^http://www.w3.org/2001/XMLSchema#integer\"}\n",
      "{\"s\": \"http://cybersecurity.org/DNS-over-HTTPS/3\", \"p\": \"http://cybersecurity.org/DNS-over-HTTPS/TimeStamp\", \"o\": \"14/01/2020_15:49^^http://www.w3.org/2001/XMLSchema#string\"}\n",
      "{\"s\": \"http://cybersecurity.org/DNS-over-HTTPS/4\", \"p\": \"http://cybersecurity.org/DNS-over-HTTPS/DestinationIP\", \"o\": \"23.78.199.198^^http://www.w3.org/2001/XMLSchema#string\"}\n",
      "{\"s\": \"http://cybersecurity.org/DNS-over-HTTPS/4\", \"p\": \"http://cybersecurity.org/DNS-over-HTTPS/DestinationPort\", \"o\": \"443^^http://www.w3.org/2001/XMLSchema#integer\"}\n",
      "{\"s\": \"http://cybersecurity.org/DNS-over-HTTPS/4\", \"p\": \"http://cybersecurity.org/DNS-over-HTTPS/DoH\", \"o\": \"False^^http://www.w3.org/2001/XMLSchema#boolean\"}\n",
      "{\"s\": \"http://cybersecurity.org/DNS-over-HTTPS/4\", \"p\": \"http://cybersecurity.org/DNS-over-HTTPS/Duration\", \"o\": \"0.019545^^http://www.w3.org/2001/XMLSchema#decimal\"}\n",
      "{\"s\": \"http://cybersecurity.org/DNS-over-HTTPS/4\", \"p\": \"http://cybersecurity.org/DNS-over-HTTPS/FlowBytesReceived\", \"o\": \"66^^http://www.w3.org/2001/XMLSchema#integer\"}\n",
      "{\"s\": \"http://cybersecurity.org/DNS-over-HTTPS/4\", \"p\": \"http://cybersecurity.org/DNS-over-HTTPS/FlowBytesSent\", \"o\": \"55^^http://www.w3.org/2001/XMLSchema#integer\"}\n",
      "{\"s\": \"http://cybersecurity.org/DNS-over-HTTPS/4\", \"p\": \"http://cybersecurity.org/DNS-over-HTTPS/FlowReceivedRate\", \"o\": \"3376.822717^^http://www.w3.org/2001/XMLSchema#decimal\"}\n",
      "{\"s\": \"http://cybersecurity.org/DNS-over-HTTPS/4\", \"p\": \"http://cybersecurity.org/DNS-over-HTTPS/FlowSentRate\", \"o\": \"2814.018931^^http://www.w3.org/2001/XMLSchema#decimal\"}\n",
      "{\"s\": \"http://cybersecurity.org/DNS-over-HTTPS/4\", \"p\": \"http://cybersecurity.org/DNS-over-HTTPS/PacketLengthCoefficientofVariation\", \"o\": \"0.090909091^^http://www.w3.org/2001/XMLSchema#decimal\"}\n",
      "{\"s\": \"http://cybersecurity.org/DNS-over-HTTPS/4\", \"p\": \"http://cybersecurity.org/DNS-over-HTTPS/PacketLengthMean\", \"o\": \"60.5^^http://www.w3.org/2001/XMLSchema#decimal\"}\n",
      "{\"s\": \"http://cybersecurity.org/DNS-over-HTTPS/4\", \"p\": \"http://cybersecurity.org/DNS-over-HTTPS/PacketLengthMedian\", \"o\": \"60.5^^http://www.w3.org/2001/XMLSchema#decimal\"}\n",
      "{\"s\": \"http://cybersecurity.org/DNS-over-HTTPS/4\", \"p\": \"http://cybersecurity.org/DNS-over-HTTPS/PacketLengthMode\", \"o\": \"55^^http://www.w3.org/2001/XMLSchema#integer\"}\n",
      "{\"s\": \"http://cybersecurity.org/DNS-over-HTTPS/4\", \"p\": \"http://cybersecurity.org/DNS-over-HTTPS/PacketLengthSkewFromMedian\", \"o\": \"0^^http://www.w3.org/2001/XMLSchema#integer\"}\n",
      "{\"s\": \"http://cybersecurity.org/DNS-over-HTTPS/4\", \"p\": \"http://cybersecurity.org/DNS-over-HTTPS/PacketLengthSkewFromMode\", \"o\": \"1^^http://www.w3.org/2001/XMLSchema#integer\"}\n",
      "{\"s\": \"http://cybersecurity.org/DNS-over-HTTPS/4\", \"p\": \"http://cybersecurity.org/DNS-over-HTTPS/PacketLengthStandardDeviation\", \"o\": \"5.5^^http://www.w3.org/2001/XMLSchema#decimal\"}\n",
      "{\"s\": \"http://cybersecurity.org/DNS-over-HTTPS/4\", \"p\": \"http://cybersecurity.org/DNS-over-HTTPS/PacketLengthVariance\", \"o\": \"30.25^^http://www.w3.org/2001/XMLSchema#decimal\"}\n",
      "{\"s\": \"http://cybersecurity.org/DNS-over-HTTPS/4\", \"p\": \"http://cybersecurity.org/DNS-over-HTTPS/PacketTimeCoefficientofVariation\", \"o\": \"1^^http://www.w3.org/2001/XMLSchema#integer\"}\n",
      "{\"s\": \"http://cybersecurity.org/DNS-over-HTTPS/4\", \"p\": \"http://cybersecurity.org/DNS-over-HTTPS/PacketTimeMean\", \"o\": \"0.0097725^^http://www.w3.org/2001/XMLSchema#decimal\"}\n",
      "{\"s\": \"http://cybersecurity.org/DNS-over-HTTPS/4\", \"p\": \"http://cybersecurity.org/DNS-over-HTTPS/PacketTimeMedian\", \"o\": \"0.0097725^^http://www.w3.org/2001/XMLSchema#decimal\"}\n",
      "{\"s\": \"http://cybersecurity.org/DNS-over-HTTPS/4\", \"p\": \"http://cybersecurity.org/DNS-over-HTTPS/PacketTimeMode\", \"o\": \"0^^http://www.w3.org/2001/XMLSchema#integer\"}\n",
      "{\"s\": \"http://cybersecurity.org/DNS-over-HTTPS/4\", \"p\": \"http://cybersecurity.org/DNS-over-HTTPS/PacketTimeSkewFromMedian\", \"o\": \"0^^http://www.w3.org/2001/XMLSchema#integer\"}\n",
      "{\"s\": \"http://cybersecurity.org/DNS-over-HTTPS/4\", \"p\": \"http://cybersecurity.org/DNS-over-HTTPS/PacketTimeSkewFromMode\", \"o\": \"1^^http://www.w3.org/2001/XMLSchema#integer\"}\n",
      "{\"s\": \"http://cybersecurity.org/DNS-over-HTTPS/4\", \"p\": \"http://cybersecurity.org/DNS-over-HTTPS/PacketTimeStandardDeviation\", \"o\": \"0.0097725^^http://www.w3.org/2001/XMLSchema#decimal\"}\n",
      "{\"s\": \"http://cybersecurity.org/DNS-over-HTTPS/4\", \"p\": \"http://cybersecurity.org/DNS-over-HTTPS/PacketTimeVariance\", \"o\": \"9.55E-5^^http://www.w3.org/2001/XMLSchema#decimal\"}\n",
      "{\"s\": \"http://cybersecurity.org/DNS-over-HTTPS/4\", \"p\": \"http://cybersecurity.org/DNS-over-HTTPS/ResponseTimeTimeCoefficientofVariation\", \"o\": \"0^^http://www.w3.org/2001/XMLSchema#integer\"}\n",
      "{\"s\": \"http://cybersecurity.org/DNS-over-HTTPS/4\", \"p\": \"http://cybersecurity.org/DNS-over-HTTPS/ResponseTimeTimeMean\", \"o\": \"0.019545^^http://www.w3.org/2001/XMLSchema#decimal\"}\n",
      "{\"s\": \"http://cybersecurity.org/DNS-over-HTTPS/4\", \"p\": \"http://cybersecurity.org/DNS-over-HTTPS/ResponseTimeTimeMedian\", \"o\": \"0.019545^^http://www.w3.org/2001/XMLSchema#decimal\"}\n",
      "{\"s\": \"http://cybersecurity.org/DNS-over-HTTPS/4\", \"p\": \"http://cybersecurity.org/DNS-over-HTTPS/ResponseTimeTimeMode\", \"o\": \"0.019545^^http://www.w3.org/2001/XMLSchema#decimal\"}\n",
      "{\"s\": \"http://cybersecurity.org/DNS-over-HTTPS/4\", \"p\": \"http://cybersecurity.org/DNS-over-HTTPS/ResponseTimeTimeSkewFromMedian\", \"o\": \"-10^^http://www.w3.org/2001/XMLSchema#integer\"}\n",
      "{\"s\": \"http://cybersecurity.org/DNS-over-HTTPS/4\", \"p\": \"http://cybersecurity.org/DNS-over-HTTPS/ResponseTimeTimeSkewFromMode\", \"o\": \"-10^^http://www.w3.org/2001/XMLSchema#integer\"}\n",
      "{\"s\": \"http://cybersecurity.org/DNS-over-HTTPS/4\", \"p\": \"http://cybersecurity.org/DNS-over-HTTPS/ResponseTimeTimeStandardDeviation\", \"o\": \"0^^http://www.w3.org/2001/XMLSchema#integer\"}\n",
      "{\"s\": \"http://cybersecurity.org/DNS-over-HTTPS/4\", \"p\": \"http://cybersecurity.org/DNS-over-HTTPS/ResponseTimeTimeVariance\", \"o\": \"0^^http://www.w3.org/2001/XMLSchema#integer\"}\n",
      "{\"s\": \"http://cybersecurity.org/DNS-over-HTTPS/4\", \"p\": \"http://cybersecurity.org/DNS-over-HTTPS/SourceIP\", \"o\": \"192.168.20.191^^http://www.w3.org/2001/XMLSchema#string\"}\n",
      "{\"s\": \"http://cybersecurity.org/DNS-over-HTTPS/4\", \"p\": \"http://cybersecurity.org/DNS-over-HTTPS/SourcePort\", \"o\": \"50983^^http://www.w3.org/2001/XMLSchema#integer\"}\n",
      "{\"s\": \"http://cybersecurity.org/DNS-over-HTTPS/4\", \"p\": \"http://cybersecurity.org/DNS-over-HTTPS/TimeStamp\", \"o\": \"14/01/2020_15:49^^http://www.w3.org/2001/XMLSchema#string\"}\n",
      "{\"s\": \"http://cybersecurity.org/DNS-over-HTTPS/5\", \"p\": \"http://cybersecurity.org/DNS-over-HTTPS/DestinationIP\", \"o\": \"66.218.84.45^^http://www.w3.org/2001/XMLSchema#string\"}\n",
      "{\"s\": \"http://cybersecurity.org/DNS-over-HTTPS/5\", \"p\": \"http://cybersecurity.org/DNS-over-HTTPS/DestinationPort\", \"o\": \"443^^http://www.w3.org/2001/XMLSchema#integer\"}\n",
      "{\"s\": \"http://cybersecurity.org/DNS-over-HTTPS/5\", \"p\": \"http://cybersecurity.org/DNS-over-HTTPS/DoH\", \"o\": \"False^^http://www.w3.org/2001/XMLSchema#boolean\"}\n",
      "{\"s\": \"http://cybersecurity.org/DNS-over-HTTPS/5\", \"p\": \"http://cybersecurity.org/DNS-over-HTTPS/Duration\", \"o\": \"0.02958^^http://www.w3.org/2001/XMLSchema#decimal\"}\n",
      "{\"s\": \"http://cybersecurity.org/DNS-over-HTTPS/5\", \"p\": \"http://cybersecurity.org/DNS-over-HTTPS/FlowBytesReceived\", \"o\": \"60^^http://www.w3.org/2001/XMLSchema#integer\"}\n",
      "{\"s\": \"http://cybersecurity.org/DNS-over-HTTPS/5\", \"p\": \"http://cybersecurity.org/DNS-over-HTTPS/FlowBytesSent\", \"o\": \"55^^http://www.w3.org/2001/XMLSchema#integer\"}\n",
      "{\"s\": \"http://cybersecurity.org/DNS-over-HTTPS/5\", \"p\": \"http://cybersecurity.org/DNS-over-HTTPS/FlowReceivedRate\", \"o\": \"2028.397566^^http://www.w3.org/2001/XMLSchema#decimal\"}\n",
      "{\"s\": \"http://cybersecurity.org/DNS-over-HTTPS/5\", \"p\": \"http://cybersecurity.org/DNS-over-HTTPS/FlowSentRate\", \"o\": \"1859.364435^^http://www.w3.org/2001/XMLSchema#decimal\"}\n",
      "{\"s\": \"http://cybersecurity.org/DNS-over-HTTPS/5\", \"p\": \"http://cybersecurity.org/DNS-over-HTTPS/PacketLengthCoefficientofVariation\", \"o\": \"0.043478261^^http://www.w3.org/2001/XMLSchema#decimal\"}\n",
      "{\"s\": \"http://cybersecurity.org/DNS-over-HTTPS/5\", \"p\": \"http://cybersecurity.org/DNS-over-HTTPS/PacketLengthMean\", \"o\": \"57.5^^http://www.w3.org/2001/XMLSchema#decimal\"}\n",
      "{\"s\": \"http://cybersecurity.org/DNS-over-HTTPS/5\", \"p\": \"http://cybersecurity.org/DNS-over-HTTPS/PacketLengthMedian\", \"o\": \"57.5^^http://www.w3.org/2001/XMLSchema#decimal\"}\n",
      "{\"s\": \"http://cybersecurity.org/DNS-over-HTTPS/5\", \"p\": \"http://cybersecurity.org/DNS-over-HTTPS/PacketLengthMode\", \"o\": \"55^^http://www.w3.org/2001/XMLSchema#integer\"}\n",
      "{\"s\": \"http://cybersecurity.org/DNS-over-HTTPS/5\", \"p\": \"http://cybersecurity.org/DNS-over-HTTPS/PacketLengthSkewFromMedian\", \"o\": \"0^^http://www.w3.org/2001/XMLSchema#integer\"}\n",
      "{\"s\": \"http://cybersecurity.org/DNS-over-HTTPS/5\", \"p\": \"http://cybersecurity.org/DNS-over-HTTPS/PacketLengthSkewFromMode\", \"o\": \"1^^http://www.w3.org/2001/XMLSchema#integer\"}\n",
      "{\"s\": \"http://cybersecurity.org/DNS-over-HTTPS/5\", \"p\": \"http://cybersecurity.org/DNS-over-HTTPS/PacketLengthStandardDeviation\", \"o\": \"2.5^^http://www.w3.org/2001/XMLSchema#decimal\"}\n",
      "{\"s\": \"http://cybersecurity.org/DNS-over-HTTPS/5\", \"p\": \"http://cybersecurity.org/DNS-over-HTTPS/PacketLengthVariance\", \"o\": \"6.25^^http://www.w3.org/2001/XMLSchema#decimal\"}\n",
      "{\"s\": \"http://cybersecurity.org/DNS-over-HTTPS/5\", \"p\": \"http://cybersecurity.org/DNS-over-HTTPS/PacketTimeCoefficientofVariation\", \"o\": \"1^^http://www.w3.org/2001/XMLSchema#integer\"}\n",
      "{\"s\": \"http://cybersecurity.org/DNS-over-HTTPS/5\", \"p\": \"http://cybersecurity.org/DNS-over-HTTPS/PacketTimeMean\", \"o\": \"0.01479^^http://www.w3.org/2001/XMLSchema#decimal\"}\n",
      "{\"s\": \"http://cybersecurity.org/DNS-over-HTTPS/5\", \"p\": \"http://cybersecurity.org/DNS-over-HTTPS/PacketTimeMedian\", \"o\": \"0.01479^^http://www.w3.org/2001/XMLSchema#decimal\"}\n",
      "{\"s\": \"http://cybersecurity.org/DNS-over-HTTPS/5\", \"p\": \"http://cybersecurity.org/DNS-over-HTTPS/PacketTimeMode\", \"o\": \"0^^http://www.w3.org/2001/XMLSchema#integer\"}\n",
      "{\"s\": \"http://cybersecurity.org/DNS-over-HTTPS/5\", \"p\": \"http://cybersecurity.org/DNS-over-HTTPS/PacketTimeSkewFromMedian\", \"o\": \"0^^http://www.w3.org/2001/XMLSchema#integer\"}\n",
      "{\"s\": \"http://cybersecurity.org/DNS-over-HTTPS/5\", \"p\": \"http://cybersecurity.org/DNS-over-HTTPS/PacketTimeSkewFromMode\", \"o\": \"1^^http://www.w3.org/2001/XMLSchema#integer\"}\n",
      "{\"s\": \"http://cybersecurity.org/DNS-over-HTTPS/5\", \"p\": \"http://cybersecurity.org/DNS-over-HTTPS/PacketTimeStandardDeviation\", \"o\": \"0.01479^^http://www.w3.org/2001/XMLSchema#decimal\"}\n",
      "{\"s\": \"http://cybersecurity.org/DNS-over-HTTPS/5\", \"p\": \"http://cybersecurity.org/DNS-over-HTTPS/PacketTimeVariance\", \"o\": \"2.18744E-4^^http://www.w3.org/2001/XMLSchema#decimal\"}\n",
      "{\"s\": \"http://cybersecurity.org/DNS-over-HTTPS/5\", \"p\": \"http://cybersecurity.org/DNS-over-HTTPS/ResponseTimeTimeCoefficientofVariation\", \"o\": \"0^^http://www.w3.org/2001/XMLSchema#integer\"}\n",
      "{\"s\": \"http://cybersecurity.org/DNS-over-HTTPS/5\", \"p\": \"http://cybersecurity.org/DNS-over-HTTPS/ResponseTimeTimeMean\", \"o\": \"0.02958^^http://www.w3.org/2001/XMLSchema#decimal\"}\n",
      "{\"s\": \"http://cybersecurity.org/DNS-over-HTTPS/5\", \"p\": \"http://cybersecurity.org/DNS-over-HTTPS/ResponseTimeTimeMedian\", \"o\": \"0.02958^^http://www.w3.org/2001/XMLSchema#decimal\"}\n",
      "{\"s\": \"http://cybersecurity.org/DNS-over-HTTPS/5\", \"p\": \"http://cybersecurity.org/DNS-over-HTTPS/ResponseTimeTimeMode\", \"o\": \"0.02958^^http://www.w3.org/2001/XMLSchema#decimal\"}\n",
      "{\"s\": \"http://cybersecurity.org/DNS-over-HTTPS/5\", \"p\": \"http://cybersecurity.org/DNS-over-HTTPS/ResponseTimeTimeSkewFromMedian\", \"o\": \"-10^^http://www.w3.org/2001/XMLSchema#integer\"}\n",
      "{\"s\": \"http://cybersecurity.org/DNS-over-HTTPS/5\", \"p\": \"http://cybersecurity.org/DNS-over-HTTPS/ResponseTimeTimeSkewFromMode\", \"o\": \"-10^^http://www.w3.org/2001/XMLSchema#integer\"}\n",
      "{\"s\": \"http://cybersecurity.org/DNS-over-HTTPS/5\", \"p\": \"http://cybersecurity.org/DNS-over-HTTPS/ResponseTimeTimeStandardDeviation\", \"o\": \"0^^http://www.w3.org/2001/XMLSchema#integer\"}\n",
      "{\"s\": \"http://cybersecurity.org/DNS-over-HTTPS/5\", \"p\": \"http://cybersecurity.org/DNS-over-HTTPS/ResponseTimeTimeVariance\", \"o\": \"0^^http://www.w3.org/2001/XMLSchema#integer\"}\n",
      "{\"s\": \"http://cybersecurity.org/DNS-over-HTTPS/5\", \"p\": \"http://cybersecurity.org/DNS-over-HTTPS/SourceIP\", \"o\": \"192.168.20.191^^http://www.w3.org/2001/XMLSchema#string\"}\n",
      "{\"s\": \"http://cybersecurity.org/DNS-over-HTTPS/5\", \"p\": \"http://cybersecurity.org/DNS-over-HTTPS/SourcePort\", \"o\": \"49762^^http://www.w3.org/2001/XMLSchema#integer\"}\n",
      "{\"s\": \"http://cybersecurity.org/DNS-over-HTTPS/5\", \"p\": \"http://cybersecurity.org/DNS-over-HTTPS/TimeStamp\", \"o\": \"14/01/2020_15:49^^http://www.w3.org/2001/XMLSchema#string\"}\n",
      "{\"s\": \"http://cybersecurity.org/DNS-over-HTTPS/6\", \"p\": \"http://cybersecurity.org/DNS-over-HTTPS/DestinationIP\", \"o\": \"151.101.124.237^^http://www.w3.org/2001/XMLSchema#string\"}\n",
      "{\"s\": \"http://cybersecurity.org/DNS-over-HTTPS/6\", \"p\": \"http://cybersecurity.org/DNS-over-HTTPS/DestinationPort\", \"o\": \"443^^http://www.w3.org/2001/XMLSchema#integer\"}\n",
      "{\"s\": \"http://cybersecurity.org/DNS-over-HTTPS/6\", \"p\": \"http://cybersecurity.org/DNS-over-HTTPS/DoH\", \"o\": \"True^^http://www.w3.org/2001/XMLSchema#boolean\"}\n",
      "{\"s\": \"http://cybersecurity.org/DNS-over-HTTPS/6\", \"p\": \"http://cybersecurity.org/DNS-over-HTTPS/Duration\", \"o\": \"0.025021^^http://www.w3.org/2001/XMLSchema#decimal\"}\n",
      "{\"s\": \"http://cybersecurity.org/DNS-over-HTTPS/6\", \"p\": \"http://cybersecurity.org/DNS-over-HTTPS/FlowBytesReceived\", \"o\": \"66^^http://www.w3.org/2001/XMLSchema#integer\"}\n",
      "{\"s\": \"http://cybersecurity.org/DNS-over-HTTPS/6\", \"p\": \"http://cybersecurity.org/DNS-over-HTTPS/FlowBytesSent\", \"o\": \"55^^http://www.w3.org/2001/XMLSchema#integer\"}\n",
      "{\"s\": \"http://cybersecurity.org/DNS-over-HTTPS/6\", \"p\": \"http://cybersecurity.org/DNS-over-HTTPS/FlowReceivedRate\", \"o\": \"2637.784261^^http://www.w3.org/2001/XMLSchema#decimal\"}\n",
      "{\"s\": \"http://cybersecurity.org/DNS-over-HTTPS/6\", \"p\": \"http://cybersecurity.org/DNS-over-HTTPS/FlowSentRate\", \"o\": \"2198.153551^^http://www.w3.org/2001/XMLSchema#decimal\"}\n",
      "{\"s\": \"http://cybersecurity.org/DNS-over-HTTPS/6\", \"p\": \"http://cybersecurity.org/DNS-over-HTTPS/PacketLengthCoefficientofVariation\", \"o\": \"0.090909091^^http://www.w3.org/2001/XMLSchema#decimal\"}\n",
      "{\"s\": \"http://cybersecurity.org/DNS-over-HTTPS/6\", \"p\": \"http://cybersecurity.org/DNS-over-HTTPS/PacketLengthMean\", \"o\": \"60.5^^http://www.w3.org/2001/XMLSchema#decimal\"}\n",
      "{\"s\": \"http://cybersecurity.org/DNS-over-HTTPS/6\", \"p\": \"http://cybersecurity.org/DNS-over-HTTPS/PacketLengthMedian\", \"o\": \"60.5^^http://www.w3.org/2001/XMLSchema#decimal\"}\n",
      "{\"s\": \"http://cybersecurity.org/DNS-over-HTTPS/6\", \"p\": \"http://cybersecurity.org/DNS-over-HTTPS/PacketLengthMode\", \"o\": \"55^^http://www.w3.org/2001/XMLSchema#integer\"}\n",
      "{\"s\": \"http://cybersecurity.org/DNS-over-HTTPS/6\", \"p\": \"http://cybersecurity.org/DNS-over-HTTPS/PacketLengthSkewFromMedian\", \"o\": \"0^^http://www.w3.org/2001/XMLSchema#integer\"}\n",
      "{\"s\": \"http://cybersecurity.org/DNS-over-HTTPS/6\", \"p\": \"http://cybersecurity.org/DNS-over-HTTPS/PacketLengthSkewFromMode\", \"o\": \"1^^http://www.w3.org/2001/XMLSchema#integer\"}\n",
      "{\"s\": \"http://cybersecurity.org/DNS-over-HTTPS/6\", \"p\": \"http://cybersecurity.org/DNS-over-HTTPS/PacketLengthStandardDeviation\", \"o\": \"5.5^^http://www.w3.org/2001/XMLSchema#decimal\"}\n",
      "{\"s\": \"http://cybersecurity.org/DNS-over-HTTPS/6\", \"p\": \"http://cybersecurity.org/DNS-over-HTTPS/PacketLengthVariance\", \"o\": \"30.25^^http://www.w3.org/2001/XMLSchema#decimal\"}\n",
      "{\"s\": \"http://cybersecurity.org/DNS-over-HTTPS/6\", \"p\": \"http://cybersecurity.org/DNS-over-HTTPS/PacketTimeCoefficientofVariation\", \"o\": \"1^^http://www.w3.org/2001/XMLSchema#integer\"}\n",
      "{\"s\": \"http://cybersecurity.org/DNS-over-HTTPS/6\", \"p\": \"http://cybersecurity.org/DNS-over-HTTPS/PacketTimeMean\", \"o\": \"0.0125105^^http://www.w3.org/2001/XMLSchema#decimal\"}\n",
      "{\"s\": \"http://cybersecurity.org/DNS-over-HTTPS/6\", \"p\": \"http://cybersecurity.org/DNS-over-HTTPS/PacketTimeMedian\", \"o\": \"0.0125105^^http://www.w3.org/2001/XMLSchema#decimal\"}\n",
      "{\"s\": \"http://cybersecurity.org/DNS-over-HTTPS/6\", \"p\": \"http://cybersecurity.org/DNS-over-HTTPS/PacketTimeMode\", \"o\": \"0^^http://www.w3.org/2001/XMLSchema#integer\"}\n",
      "{\"s\": \"http://cybersecurity.org/DNS-over-HTTPS/6\", \"p\": \"http://cybersecurity.org/DNS-over-HTTPS/PacketTimeSkewFromMedian\", \"o\": \"0^^http://www.w3.org/2001/XMLSchema#integer\"}\n",
      "{\"s\": \"http://cybersecurity.org/DNS-over-HTTPS/6\", \"p\": \"http://cybersecurity.org/DNS-over-HTTPS/PacketTimeSkewFromMode\", \"o\": \"1^^http://www.w3.org/2001/XMLSchema#integer\"}\n",
      "{\"s\": \"http://cybersecurity.org/DNS-over-HTTPS/6\", \"p\": \"http://cybersecurity.org/DNS-over-HTTPS/PacketTimeStandardDeviation\", \"o\": \"0.0125105^^http://www.w3.org/2001/XMLSchema#decimal\"}\n",
      "{\"s\": \"http://cybersecurity.org/DNS-over-HTTPS/6\", \"p\": \"http://cybersecurity.org/DNS-over-HTTPS/PacketTimeVariance\", \"o\": \"1.56513E-4^^http://www.w3.org/2001/XMLSchema#decimal\"}\n",
      "{\"s\": \"http://cybersecurity.org/DNS-over-HTTPS/6\", \"p\": \"http://cybersecurity.org/DNS-over-HTTPS/ResponseTimeTimeCoefficientofVariation\", \"o\": \"0^^http://www.w3.org/2001/XMLSchema#integer\"}\n",
      "{\"s\": \"http://cybersecurity.org/DNS-over-HTTPS/6\", \"p\": \"http://cybersecurity.org/DNS-over-HTTPS/ResponseTimeTimeMean\", \"o\": \"0.025021^^http://www.w3.org/2001/XMLSchema#decimal\"}\n",
      "{\"s\": \"http://cybersecurity.org/DNS-over-HTTPS/6\", \"p\": \"http://cybersecurity.org/DNS-over-HTTPS/ResponseTimeTimeMedian\", \"o\": \"0.025021^^http://www.w3.org/2001/XMLSchema#decimal\"}\n",
      "{\"s\": \"http://cybersecurity.org/DNS-over-HTTPS/6\", \"p\": \"http://cybersecurity.org/DNS-over-HTTPS/ResponseTimeTimeMode\", \"o\": \"0.025021^^http://www.w3.org/2001/XMLSchema#decimal\"}\n",
      "{\"s\": \"http://cybersecurity.org/DNS-over-HTTPS/6\", \"p\": \"http://cybersecurity.org/DNS-over-HTTPS/ResponseTimeTimeSkewFromMedian\", \"o\": \"-10^^http://www.w3.org/2001/XMLSchema#integer\"}\n",
      "{\"s\": \"http://cybersecurity.org/DNS-over-HTTPS/6\", \"p\": \"http://cybersecurity.org/DNS-over-HTTPS/ResponseTimeTimeSkewFromMode\", \"o\": \"-10^^http://www.w3.org/2001/XMLSchema#integer\"}\n",
      "{\"s\": \"http://cybersecurity.org/DNS-over-HTTPS/6\", \"p\": \"http://cybersecurity.org/DNS-over-HTTPS/ResponseTimeTimeStandardDeviation\", \"o\": \"0^^http://www.w3.org/2001/XMLSchema#integer\"}\n",
      "{\"s\": \"http://cybersecurity.org/DNS-over-HTTPS/6\", \"p\": \"http://cybersecurity.org/DNS-over-HTTPS/ResponseTimeTimeVariance\", \"o\": \"0^^http://www.w3.org/2001/XMLSchema#integer\"}\n",
      "{\"s\": \"http://cybersecurity.org/DNS-over-HTTPS/6\", \"p\": \"http://cybersecurity.org/DNS-over-HTTPS/SourceIP\", \"o\": \"192.168.20.191^^http://www.w3.org/2001/XMLSchema#string\"}\n",
      "{\"s\": \"http://cybersecurity.org/DNS-over-HTTPS/6\", \"p\": \"http://cybersecurity.org/DNS-over-HTTPS/SourcePort\", \"o\": \"50649^^http://www.w3.org/2001/XMLSchema#integer\"}\n",
      "{\"s\": \"http://cybersecurity.org/DNS-over-HTTPS/6\", \"p\": \"http://cybersecurity.org/DNS-over-HTTPS/TimeStamp\", \"o\": \"14/01/2020_15:49^^http://www.w3.org/2001/XMLSchema#string\"}\n",
      "{\"s\": \"http://cybersecurity.org/DNS-over-HTTPS/7\", \"p\": \"http://cybersecurity.org/DNS-over-HTTPS/DestinationIP\", \"o\": \"151.101.124.237^^http://www.w3.org/2001/XMLSchema#string\"}\n",
      "{\"s\": \"http://cybersecurity.org/DNS-over-HTTPS/7\", \"p\": \"http://cybersecurity.org/DNS-over-HTTPS/DestinationPort\", \"o\": \"443^^http://www.w3.org/2001/XMLSchema#integer\"}\n",
      "{\"s\": \"http://cybersecurity.org/DNS-over-HTTPS/7\", \"p\": \"http://cybersecurity.org/DNS-over-HTTPS/DoH\", \"o\": \"False^^http://www.w3.org/2001/XMLSchema#boolean\"}\n",
      "{\"s\": \"http://cybersecurity.org/DNS-over-HTTPS/7\", \"p\": \"http://cybersecurity.org/DNS-over-HTTPS/Duration\", \"o\": \"0.025077^^http://www.w3.org/2001/XMLSchema#decimal\"}\n",
      "{\"s\": \"http://cybersecurity.org/DNS-over-HTTPS/7\", \"p\": \"http://cybersecurity.org/DNS-over-HTTPS/FlowBytesReceived\", \"o\": \"66^^http://www.w3.org/2001/XMLSchema#integer\"}\n",
      "{\"s\": \"http://cybersecurity.org/DNS-over-HTTPS/7\", \"p\": \"http://cybersecurity.org/DNS-over-HTTPS/FlowBytesSent\", \"o\": \"55^^http://www.w3.org/2001/XMLSchema#integer\"}\n",
      "{\"s\": \"http://cybersecurity.org/DNS-over-HTTPS/7\", \"p\": \"http://cybersecurity.org/DNS-over-HTTPS/FlowReceivedRate\", \"o\": \"2631.893767^^http://www.w3.org/2001/XMLSchema#decimal\"}\n",
      "{\"s\": \"http://cybersecurity.org/DNS-over-HTTPS/7\", \"p\": \"http://cybersecurity.org/DNS-over-HTTPS/FlowSentRate\", \"o\": \"2193.244806^^http://www.w3.org/2001/XMLSchema#decimal\"}\n",
      "{\"s\": \"http://cybersecurity.org/DNS-over-HTTPS/7\", \"p\": \"http://cybersecurity.org/DNS-over-HTTPS/PacketLengthCoefficientofVariation\", \"o\": \"0.090909091^^http://www.w3.org/2001/XMLSchema#decimal\"}\n",
      "{\"s\": \"http://cybersecurity.org/DNS-over-HTTPS/7\", \"p\": \"http://cybersecurity.org/DNS-over-HTTPS/PacketLengthMean\", \"o\": \"60.5^^http://www.w3.org/2001/XMLSchema#decimal\"}\n",
      "{\"s\": \"http://cybersecurity.org/DNS-over-HTTPS/7\", \"p\": \"http://cybersecurity.org/DNS-over-HTTPS/PacketLengthMedian\", \"o\": \"60.5^^http://www.w3.org/2001/XMLSchema#decimal\"}\n",
      "{\"s\": \"http://cybersecurity.org/DNS-over-HTTPS/7\", \"p\": \"http://cybersecurity.org/DNS-over-HTTPS/PacketLengthMode\", \"o\": \"55^^http://www.w3.org/2001/XMLSchema#integer\"}\n",
      "{\"s\": \"http://cybersecurity.org/DNS-over-HTTPS/7\", \"p\": \"http://cybersecurity.org/DNS-over-HTTPS/PacketLengthSkewFromMedian\", \"o\": \"0^^http://www.w3.org/2001/XMLSchema#integer\"}\n",
      "{\"s\": \"http://cybersecurity.org/DNS-over-HTTPS/7\", \"p\": \"http://cybersecurity.org/DNS-over-HTTPS/PacketLengthSkewFromMode\", \"o\": \"1^^http://www.w3.org/2001/XMLSchema#integer\"}\n",
      "{\"s\": \"http://cybersecurity.org/DNS-over-HTTPS/7\", \"p\": \"http://cybersecurity.org/DNS-over-HTTPS/PacketLengthStandardDeviation\", \"o\": \"5.5^^http://www.w3.org/2001/XMLSchema#decimal\"}\n",
      "{\"s\": \"http://cybersecurity.org/DNS-over-HTTPS/7\", \"p\": \"http://cybersecurity.org/DNS-over-HTTPS/PacketLengthVariance\", \"o\": \"30.25^^http://www.w3.org/2001/XMLSchema#decimal\"}\n",
      "{\"s\": \"http://cybersecurity.org/DNS-over-HTTPS/7\", \"p\": \"http://cybersecurity.org/DNS-over-HTTPS/PacketTimeCoefficientofVariation\", \"o\": \"1^^http://www.w3.org/2001/XMLSchema#integer\"}\n",
      "{\"s\": \"http://cybersecurity.org/DNS-over-HTTPS/7\", \"p\": \"http://cybersecurity.org/DNS-over-HTTPS/PacketTimeMean\", \"o\": \"0.0125385^^http://www.w3.org/2001/XMLSchema#decimal\"}\n",
      "{\"s\": \"http://cybersecurity.org/DNS-over-HTTPS/7\", \"p\": \"http://cybersecurity.org/DNS-over-HTTPS/PacketTimeMedian\", \"o\": \"0.0125385^^http://www.w3.org/2001/XMLSchema#decimal\"}\n",
      "{\"s\": \"http://cybersecurity.org/DNS-over-HTTPS/7\", \"p\": \"http://cybersecurity.org/DNS-over-HTTPS/PacketTimeMode\", \"o\": \"0^^http://www.w3.org/2001/XMLSchema#integer\"}\n",
      "{\"s\": \"http://cybersecurity.org/DNS-over-HTTPS/7\", \"p\": \"http://cybersecurity.org/DNS-over-HTTPS/PacketTimeSkewFromMedian\", \"o\": \"0^^http://www.w3.org/2001/XMLSchema#integer\"}\n",
      "{\"s\": \"http://cybersecurity.org/DNS-over-HTTPS/7\", \"p\": \"http://cybersecurity.org/DNS-over-HTTPS/PacketTimeSkewFromMode\", \"o\": \"1^^http://www.w3.org/2001/XMLSchema#integer\"}\n",
      "{\"s\": \"http://cybersecurity.org/DNS-over-HTTPS/7\", \"p\": \"http://cybersecurity.org/DNS-over-HTTPS/PacketTimeStandardDeviation\", \"o\": \"0.0125385^^http://www.w3.org/2001/XMLSchema#decimal\"}\n",
      "{\"s\": \"http://cybersecurity.org/DNS-over-HTTPS/7\", \"p\": \"http://cybersecurity.org/DNS-over-HTTPS/PacketTimeVariance\", \"o\": \"1.57214E-4^^http://www.w3.org/2001/XMLSchema#decimal\"}\n",
      "{\"s\": \"http://cybersecurity.org/DNS-over-HTTPS/7\", \"p\": \"http://cybersecurity.org/DNS-over-HTTPS/ResponseTimeTimeCoefficientofVariation\", \"o\": \"0^^http://www.w3.org/2001/XMLSchema#integer\"}\n",
      "{\"s\": \"http://cybersecurity.org/DNS-over-HTTPS/7\", \"p\": \"http://cybersecurity.org/DNS-over-HTTPS/ResponseTimeTimeMean\", \"o\": \"0.025077^^http://www.w3.org/2001/XMLSchema#decimal\"}\n",
      "{\"s\": \"http://cybersecurity.org/DNS-over-HTTPS/7\", \"p\": \"http://cybersecurity.org/DNS-over-HTTPS/ResponseTimeTimeMedian\", \"o\": \"0.025077^^http://www.w3.org/2001/XMLSchema#decimal\"}\n",
      "{\"s\": \"http://cybersecurity.org/DNS-over-HTTPS/7\", \"p\": \"http://cybersecurity.org/DNS-over-HTTPS/ResponseTimeTimeMode\", \"o\": \"0.025077^^http://www.w3.org/2001/XMLSchema#decimal\"}\n",
      "{\"s\": \"http://cybersecurity.org/DNS-over-HTTPS/7\", \"p\": \"http://cybersecurity.org/DNS-over-HTTPS/ResponseTimeTimeSkewFromMedian\", \"o\": \"-10^^http://www.w3.org/2001/XMLSchema#integer\"}\n",
      "{\"s\": \"http://cybersecurity.org/DNS-over-HTTPS/7\", \"p\": \"http://cybersecurity.org/DNS-over-HTTPS/ResponseTimeTimeSkewFromMode\", \"o\": \"-10^^http://www.w3.org/2001/XMLSchema#integer\"}\n",
      "{\"s\": \"http://cybersecurity.org/DNS-over-HTTPS/7\", \"p\": \"http://cybersecurity.org/DNS-over-HTTPS/ResponseTimeTimeStandardDeviation\", \"o\": \"0^^http://www.w3.org/2001/XMLSchema#integer\"}\n",
      "{\"s\": \"http://cybersecurity.org/DNS-over-HTTPS/7\", \"p\": \"http://cybersecurity.org/DNS-over-HTTPS/ResponseTimeTimeVariance\", \"o\": \"0^^http://www.w3.org/2001/XMLSchema#integer\"}\n",
      "{\"s\": \"http://cybersecurity.org/DNS-over-HTTPS/7\", \"p\": \"http://cybersecurity.org/DNS-over-HTTPS/SourceIP\", \"o\": \"192.168.20.191^^http://www.w3.org/2001/XMLSchema#string\"}\n",
      "{\"s\": \"http://cybersecurity.org/DNS-over-HTTPS/7\", \"p\": \"http://cybersecurity.org/DNS-over-HTTPS/SourcePort\", \"o\": \"50650^^http://www.w3.org/2001/XMLSchema#integer\"}\n",
      "{\"s\": \"http://cybersecurity.org/DNS-over-HTTPS/7\", \"p\": \"http://cybersecurity.org/DNS-over-HTTPS/TimeStamp\", \"o\": \"14/01/2020_15:49^^http://www.w3.org/2001/XMLSchema#string\"}\n",
      "{\"s\": \"http://cybersecurity.org/DNS-over-HTTPS/8\", \"p\": \"http://cybersecurity.org/DNS-over-HTTPS/DestinationIP\", \"o\": \"104.244.42.195^^http://www.w3.org/2001/XMLSchema#string\"}\n",
      "{\"s\": \"http://cybersecurity.org/DNS-over-HTTPS/8\", \"p\": \"http://cybersecurity.org/DNS-over-HTTPS/DestinationPort\", \"o\": \"443^^http://www.w3.org/2001/XMLSchema#integer\"}\n",
      "{\"s\": \"http://cybersecurity.org/DNS-over-HTTPS/8\", \"p\": \"http://cybersecurity.org/DNS-over-HTTPS/DoH\", \"o\": \"False^^http://www.w3.org/2001/XMLSchema#boolean\"}\n",
      "{\"s\": \"http://cybersecurity.org/DNS-over-HTTPS/8\", \"p\": \"http://cybersecurity.org/DNS-over-HTTPS/Duration\", \"o\": \"0.044585^^http://www.w3.org/2001/XMLSchema#decimal\"}\n",
      "{\"s\": \"http://cybersecurity.org/DNS-over-HTTPS/8\", \"p\": \"http://cybersecurity.org/DNS-over-HTTPS/FlowBytesReceived\", \"o\": \"66^^http://www.w3.org/2001/XMLSchema#integer\"}\n",
      "{\"s\": \"http://cybersecurity.org/DNS-over-HTTPS/8\", \"p\": \"http://cybersecurity.org/DNS-over-HTTPS/FlowBytesSent\", \"o\": \"55^^http://www.w3.org/2001/XMLSchema#integer\"}\n",
      "{\"s\": \"http://cybersecurity.org/DNS-over-HTTPS/8\", \"p\": \"http://cybersecurity.org/DNS-over-HTTPS/FlowReceivedRate\", \"o\": \"1480.318493^^http://www.w3.org/2001/XMLSchema#decimal\"}\n",
      "{\"s\": \"http://cybersecurity.org/DNS-over-HTTPS/8\", \"p\": \"http://cybersecurity.org/DNS-over-HTTPS/FlowSentRate\", \"o\": \"1233.598744^^http://www.w3.org/2001/XMLSchema#decimal\"}\n",
      "{\"s\": \"http://cybersecurity.org/DNS-over-HTTPS/8\", \"p\": \"http://cybersecurity.org/DNS-over-HTTPS/PacketLengthCoefficientofVariation\", \"o\": \"0.090909091^^http://www.w3.org/2001/XMLSchema#decimal\"}\n",
      "{\"s\": \"http://cybersecurity.org/DNS-over-HTTPS/8\", \"p\": \"http://cybersecurity.org/DNS-over-HTTPS/PacketLengthMean\", \"o\": \"60.5^^http://www.w3.org/2001/XMLSchema#decimal\"}\n",
      "{\"s\": \"http://cybersecurity.org/DNS-over-HTTPS/8\", \"p\": \"http://cybersecurity.org/DNS-over-HTTPS/PacketLengthMedian\", \"o\": \"60.5^^http://www.w3.org/2001/XMLSchema#decimal\"}\n",
      "{\"s\": \"http://cybersecurity.org/DNS-over-HTTPS/8\", \"p\": \"http://cybersecurity.org/DNS-over-HTTPS/PacketLengthMode\", \"o\": \"55^^http://www.w3.org/2001/XMLSchema#integer\"}\n",
      "{\"s\": \"http://cybersecurity.org/DNS-over-HTTPS/8\", \"p\": \"http://cybersecurity.org/DNS-over-HTTPS/PacketLengthSkewFromMedian\", \"o\": \"0^^http://www.w3.org/2001/XMLSchema#integer\"}\n",
      "{\"s\": \"http://cybersecurity.org/DNS-over-HTTPS/8\", \"p\": \"http://cybersecurity.org/DNS-over-HTTPS/PacketLengthSkewFromMode\", \"o\": \"1^^http://www.w3.org/2001/XMLSchema#integer\"}\n",
      "{\"s\": \"http://cybersecurity.org/DNS-over-HTTPS/8\", \"p\": \"http://cybersecurity.org/DNS-over-HTTPS/PacketLengthStandardDeviation\", \"o\": \"5.5^^http://www.w3.org/2001/XMLSchema#decimal\"}\n",
      "{\"s\": \"http://cybersecurity.org/DNS-over-HTTPS/8\", \"p\": \"http://cybersecurity.org/DNS-over-HTTPS/PacketLengthVariance\", \"o\": \"30.25^^http://www.w3.org/2001/XMLSchema#decimal\"}\n",
      "{\"s\": \"http://cybersecurity.org/DNS-over-HTTPS/8\", \"p\": \"http://cybersecurity.org/DNS-over-HTTPS/PacketTimeCoefficientofVariation\", \"o\": \"1^^http://www.w3.org/2001/XMLSchema#integer\"}\n",
      "{\"s\": \"http://cybersecurity.org/DNS-over-HTTPS/8\", \"p\": \"http://cybersecurity.org/DNS-over-HTTPS/PacketTimeMean\", \"o\": \"0.0222925^^http://www.w3.org/2001/XMLSchema#decimal\"}\n",
      "{\"s\": \"http://cybersecurity.org/DNS-over-HTTPS/8\", \"p\": \"http://cybersecurity.org/DNS-over-HTTPS/PacketTimeMedian\", \"o\": \"0.0222925^^http://www.w3.org/2001/XMLSchema#decimal\"}\n",
      "{\"s\": \"http://cybersecurity.org/DNS-over-HTTPS/8\", \"p\": \"http://cybersecurity.org/DNS-over-HTTPS/PacketTimeMode\", \"o\": \"0^^http://www.w3.org/2001/XMLSchema#integer\"}\n",
      "{\"s\": \"http://cybersecurity.org/DNS-over-HTTPS/8\", \"p\": \"http://cybersecurity.org/DNS-over-HTTPS/PacketTimeSkewFromMedian\", \"o\": \"0^^http://www.w3.org/2001/XMLSchema#integer\"}\n",
      "{\"s\": \"http://cybersecurity.org/DNS-over-HTTPS/8\", \"p\": \"http://cybersecurity.org/DNS-over-HTTPS/PacketTimeSkewFromMode\", \"o\": \"1^^http://www.w3.org/2001/XMLSchema#integer\"}\n",
      "{\"s\": \"http://cybersecurity.org/DNS-over-HTTPS/8\", \"p\": \"http://cybersecurity.org/DNS-over-HTTPS/PacketTimeStandardDeviation\", \"o\": \"0.0222925^^http://www.w3.org/2001/XMLSchema#decimal\"}\n",
      "{\"s\": \"http://cybersecurity.org/DNS-over-HTTPS/8\", \"p\": \"http://cybersecurity.org/DNS-over-HTTPS/PacketTimeVariance\", \"o\": \"4.96956E-4^^http://www.w3.org/2001/XMLSchema#decimal\"}\n",
      "{\"s\": \"http://cybersecurity.org/DNS-over-HTTPS/8\", \"p\": \"http://cybersecurity.org/DNS-over-HTTPS/ResponseTimeTimeCoefficientofVariation\", \"o\": \"0^^http://www.w3.org/2001/XMLSchema#integer\"}\n",
      "{\"s\": \"http://cybersecurity.org/DNS-over-HTTPS/8\", \"p\": \"http://cybersecurity.org/DNS-over-HTTPS/ResponseTimeTimeMean\", \"o\": \"0.044585^^http://www.w3.org/2001/XMLSchema#decimal\"}\n",
      "{\"s\": \"http://cybersecurity.org/DNS-over-HTTPS/8\", \"p\": \"http://cybersecurity.org/DNS-over-HTTPS/ResponseTimeTimeMedian\", \"o\": \"0.044585^^http://www.w3.org/2001/XMLSchema#decimal\"}\n",
      "{\"s\": \"http://cybersecurity.org/DNS-over-HTTPS/8\", \"p\": \"http://cybersecurity.org/DNS-over-HTTPS/ResponseTimeTimeMode\", \"o\": \"0.044585^^http://www.w3.org/2001/XMLSchema#decimal\"}\n",
      "{\"s\": \"http://cybersecurity.org/DNS-over-HTTPS/8\", \"p\": \"http://cybersecurity.org/DNS-over-HTTPS/ResponseTimeTimeSkewFromMedian\", \"o\": \"-10^^http://www.w3.org/2001/XMLSchema#integer\"}\n",
      "{\"s\": \"http://cybersecurity.org/DNS-over-HTTPS/8\", \"p\": \"http://cybersecurity.org/DNS-over-HTTPS/ResponseTimeTimeSkewFromMode\", \"o\": \"-10^^http://www.w3.org/2001/XMLSchema#integer\"}\n",
      "{\"s\": \"http://cybersecurity.org/DNS-over-HTTPS/8\", \"p\": \"http://cybersecurity.org/DNS-over-HTTPS/ResponseTimeTimeStandardDeviation\", \"o\": \"0^^http://www.w3.org/2001/XMLSchema#integer\"}\n",
      "{\"s\": \"http://cybersecurity.org/DNS-over-HTTPS/8\", \"p\": \"http://cybersecurity.org/DNS-over-HTTPS/ResponseTimeTimeVariance\", \"o\": \"0^^http://www.w3.org/2001/XMLSchema#integer\"}\n",
      "{\"s\": \"http://cybersecurity.org/DNS-over-HTTPS/8\", \"p\": \"http://cybersecurity.org/DNS-over-HTTPS/SourceIP\", \"o\": \"192.168.20.191^^http://www.w3.org/2001/XMLSchema#string\"}\n",
      "{\"s\": \"http://cybersecurity.org/DNS-over-HTTPS/8\", \"p\": \"http://cybersecurity.org/DNS-over-HTTPS/SourcePort\", \"o\": \"49745^^http://www.w3.org/2001/XMLSchema#integer\"}\n",
      "{\"s\": \"http://cybersecurity.org/DNS-over-HTTPS/8\", \"p\": \"http://cybersecurity.org/DNS-over-HTTPS/TimeStamp\", \"o\": \"14/01/2020_15:49^^http://www.w3.org/2001/XMLSchema#string\"}\n",
      "{\"s\": \"http://cybersecurity.org/DNS-over-HTTPS/9\", \"p\": \"http://cybersecurity.org/DNS-over-HTTPS/DestinationIP\", \"o\": \"151.101.124.84^^http://www.w3.org/2001/XMLSchema#string\"}\n",
      "{\"s\": \"http://cybersecurity.org/DNS-over-HTTPS/9\", \"p\": \"http://cybersecurity.org/DNS-over-HTTPS/DestinationPort\", \"o\": \"443^^http://www.w3.org/2001/XMLSchema#integer\"}\n",
      "{\"s\": \"http://cybersecurity.org/DNS-over-HTTPS/9\", \"p\": \"http://cybersecurity.org/DNS-over-HTTPS/DoH\", \"o\": \"True^^http://www.w3.org/2001/XMLSchema#boolean\"}\n",
      "{\"s\": \"http://cybersecurity.org/DNS-over-HTTPS/9\", \"p\": \"http://cybersecurity.org/DNS-over-HTTPS/Duration\", \"o\": \"0.02509^^http://www.w3.org/2001/XMLSchema#decimal\"}\n",
      "{\"s\": \"http://cybersecurity.org/DNS-over-HTTPS/9\", \"p\": \"http://cybersecurity.org/DNS-over-HTTPS/FlowBytesReceived\", \"o\": \"66^^http://www.w3.org/2001/XMLSchema#integer\"}\n",
      "{\"s\": \"http://cybersecurity.org/DNS-over-HTTPS/9\", \"p\": \"http://cybersecurity.org/DNS-over-HTTPS/FlowBytesSent\", \"o\": \"55^^http://www.w3.org/2001/XMLSchema#integer\"}\n",
      "{\"s\": \"http://cybersecurity.org/DNS-over-HTTPS/9\", \"p\": \"http://cybersecurity.org/DNS-over-HTTPS/FlowReceivedRate\", \"o\": \"2630.530092^^http://www.w3.org/2001/XMLSchema#decimal\"}\n",
      "{\"s\": \"http://cybersecurity.org/DNS-over-HTTPS/9\", \"p\": \"http://cybersecurity.org/DNS-over-HTTPS/FlowSentRate\", \"o\": \"2192.10841^^http://www.w3.org/2001/XMLSchema#decimal\"}\n",
      "{\"s\": \"http://cybersecurity.org/DNS-over-HTTPS/9\", \"p\": \"http://cybersecurity.org/DNS-over-HTTPS/PacketLengthCoefficientofVariation\", \"o\": \"0.090909091^^http://www.w3.org/2001/XMLSchema#decimal\"}\n",
      "{\"s\": \"http://cybersecurity.org/DNS-over-HTTPS/9\", \"p\": \"http://cybersecurity.org/DNS-over-HTTPS/PacketLengthMean\", \"o\": \"60.5^^http://www.w3.org/2001/XMLSchema#decimal\"}\n",
      "{\"s\": \"http://cybersecurity.org/DNS-over-HTTPS/9\", \"p\": \"http://cybersecurity.org/DNS-over-HTTPS/PacketLengthMedian\", \"o\": \"60.5^^http://www.w3.org/2001/XMLSchema#decimal\"}\n",
      "{\"s\": \"http://cybersecurity.org/DNS-over-HTTPS/9\", \"p\": \"http://cybersecurity.org/DNS-over-HTTPS/PacketLengthMode\", \"o\": \"55^^http://www.w3.org/2001/XMLSchema#integer\"}\n",
      "{\"s\": \"http://cybersecurity.org/DNS-over-HTTPS/9\", \"p\": \"http://cybersecurity.org/DNS-over-HTTPS/PacketLengthSkewFromMedian\", \"o\": \"0^^http://www.w3.org/2001/XMLSchema#integer\"}\n",
      "{\"s\": \"http://cybersecurity.org/DNS-over-HTTPS/9\", \"p\": \"http://cybersecurity.org/DNS-over-HTTPS/PacketLengthSkewFromMode\", \"o\": \"1^^http://www.w3.org/2001/XMLSchema#integer\"}\n",
      "{\"s\": \"http://cybersecurity.org/DNS-over-HTTPS/9\", \"p\": \"http://cybersecurity.org/DNS-over-HTTPS/PacketLengthStandardDeviation\", \"o\": \"5.5^^http://www.w3.org/2001/XMLSchema#decimal\"}\n",
      "{\"s\": \"http://cybersecurity.org/DNS-over-HTTPS/9\", \"p\": \"http://cybersecurity.org/DNS-over-HTTPS/PacketLengthVariance\", \"o\": \"30.25^^http://www.w3.org/2001/XMLSchema#decimal\"}\n",
      "{\"s\": \"http://cybersecurity.org/DNS-over-HTTPS/9\", \"p\": \"http://cybersecurity.org/DNS-over-HTTPS/PacketTimeCoefficientofVariation\", \"o\": \"1^^http://www.w3.org/2001/XMLSchema#integer\"}\n",
      "{\"s\": \"http://cybersecurity.org/DNS-over-HTTPS/9\", \"p\": \"http://cybersecurity.org/DNS-over-HTTPS/PacketTimeMean\", \"o\": \"0.012545^^http://www.w3.org/2001/XMLSchema#decimal\"}\n",
      "{\"s\": \"http://cybersecurity.org/DNS-over-HTTPS/9\", \"p\": \"http://cybersecurity.org/DNS-over-HTTPS/PacketTimeMedian\", \"o\": \"0.012545^^http://www.w3.org/2001/XMLSchema#decimal\"}\n",
      "{\"s\": \"http://cybersecurity.org/DNS-over-HTTPS/9\", \"p\": \"http://cybersecurity.org/DNS-over-HTTPS/PacketTimeMode\", \"o\": \"0^^http://www.w3.org/2001/XMLSchema#integer\"}\n",
      "{\"s\": \"http://cybersecurity.org/DNS-over-HTTPS/9\", \"p\": \"http://cybersecurity.org/DNS-over-HTTPS/PacketTimeSkewFromMedian\", \"o\": \"0^^http://www.w3.org/2001/XMLSchema#integer\"}\n",
      "{\"s\": \"http://cybersecurity.org/DNS-over-HTTPS/9\", \"p\": \"http://cybersecurity.org/DNS-over-HTTPS/PacketTimeSkewFromMode\", \"o\": \"1^^http://www.w3.org/2001/XMLSchema#integer\"}\n",
      "{\"s\": \"http://cybersecurity.org/DNS-over-HTTPS/9\", \"p\": \"http://cybersecurity.org/DNS-over-HTTPS/PacketTimeStandardDeviation\", \"o\": \"0.012545^^http://www.w3.org/2001/XMLSchema#decimal\"}\n",
      "{\"s\": \"http://cybersecurity.org/DNS-over-HTTPS/9\", \"p\": \"http://cybersecurity.org/DNS-over-HTTPS/PacketTimeVariance\", \"o\": \"1.57377E-4^^http://www.w3.org/2001/XMLSchema#decimal\"}\n",
      "{\"s\": \"http://cybersecurity.org/DNS-over-HTTPS/9\", \"p\": \"http://cybersecurity.org/DNS-over-HTTPS/ResponseTimeTimeCoefficientofVariation\", \"o\": \"0^^http://www.w3.org/2001/XMLSchema#integer\"}\n",
      "{\"s\": \"http://cybersecurity.org/DNS-over-HTTPS/9\", \"p\": \"http://cybersecurity.org/DNS-over-HTTPS/ResponseTimeTimeMean\", \"o\": \"0.02509^^http://www.w3.org/2001/XMLSchema#decimal\"}\n",
      "{\"s\": \"http://cybersecurity.org/DNS-over-HTTPS/9\", \"p\": \"http://cybersecurity.org/DNS-over-HTTPS/ResponseTimeTimeMedian\", \"o\": \"0.02509^^http://www.w3.org/2001/XMLSchema#decimal\"}\n",
      "{\"s\": \"http://cybersecurity.org/DNS-over-HTTPS/9\", \"p\": \"http://cybersecurity.org/DNS-over-HTTPS/ResponseTimeTimeMode\", \"o\": \"0.02509^^http://www.w3.org/2001/XMLSchema#decimal\"}\n",
      "{\"s\": \"http://cybersecurity.org/DNS-over-HTTPS/9\", \"p\": \"http://cybersecurity.org/DNS-over-HTTPS/ResponseTimeTimeSkewFromMedian\", \"o\": \"-10^^http://www.w3.org/2001/XMLSchema#integer\"}\n",
      "{\"s\": \"http://cybersecurity.org/DNS-over-HTTPS/9\", \"p\": \"http://cybersecurity.org/DNS-over-HTTPS/ResponseTimeTimeSkewFromMode\", \"o\": \"-10^^http://www.w3.org/2001/XMLSchema#integer\"}\n",
      "{\"s\": \"http://cybersecurity.org/DNS-over-HTTPS/9\", \"p\": \"http://cybersecurity.org/DNS-over-HTTPS/ResponseTimeTimeStandardDeviation\", \"o\": \"0^^http://www.w3.org/2001/XMLSchema#integer\"}\n",
      "{\"s\": \"http://cybersecurity.org/DNS-over-HTTPS/9\", \"p\": \"http://cybersecurity.org/DNS-over-HTTPS/ResponseTimeTimeVariance\", \"o\": \"0^^http://www.w3.org/2001/XMLSchema#integer\"}\n",
      "{\"s\": \"http://cybersecurity.org/DNS-over-HTTPS/9\", \"p\": \"http://cybersecurity.org/DNS-over-HTTPS/SourceIP\", \"o\": \"192.168.20.191^^http://www.w3.org/2001/XMLSchema#string\"}\n",
      "{\"s\": \"http://cybersecurity.org/DNS-over-HTTPS/9\", \"p\": \"http://cybersecurity.org/DNS-over-HTTPS/SourcePort\", \"o\": \"49872^^http://www.w3.org/2001/XMLSchema#integer\"}\n",
      "{\"s\": \"http://cybersecurity.org/DNS-over-HTTPS/9\", \"p\": \"http://cybersecurity.org/DNS-over-HTTPS/TimeStamp\", \"o\": \"14/01/2020_15:49^^http://www.w3.org/2001/XMLSchema#string\"}\n"
     ]
    }
   ],
   "source": [
    "testset0 = HandleStore.get(\"http://localhost:5000/Cybersecurity/DoH\", \"\"\" \n",
    "PREFIX CyD: <http://cybersecurity.org/DNS-over-HTTPS/>\n",
    "SELECT ?s ?p ?o WHERE { ?s ?p ?o .} ORDER BY ?s ?p\"\"\")\n",
    "t0 = testset0.getResultSet()\n",
    "testlist= HandleStore.PythonResultSetToJSON(t0)\n",
    "for t in  testlist:\n",
    "    print(t)"
   ]
  },
  {
   "cell_type": "code",
   "execution_count": null,
   "id": "0c642125",
   "metadata": {},
   "outputs": [],
   "source": []
  }
 ],
 "metadata": {
  "kernelspec": {
   "display_name": "Python 3 (ipykernel)",
   "language": "python",
   "name": "python3"
  },
  "language_info": {
   "codemirror_mode": {
    "name": "ipython",
    "version": 3
   },
   "file_extension": ".py",
   "mimetype": "text/x-python",
   "name": "python",
   "nbconvert_exporter": "python",
   "pygments_lexer": "ipython3",
   "version": "3.11.1"
  }
 },
 "nbformat": 4,
 "nbformat_minor": 5
}
